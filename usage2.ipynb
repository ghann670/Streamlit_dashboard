{
 "cells": [
  {
   "cell_type": "code",
   "execution_count": 12,
   "metadata": {},
   "outputs": [
    {
     "name": "stderr",
     "output_type": "stream",
     "text": [
      "/var/folders/l1/ktg7ylkj42q3hp4jh40_3_xc0000gq/T/ipykernel_71815/3648594800.py:17: FutureWarning: The behavior of DataFrame concatenation with empty or all-NA entries is deprecated. In a future version, this will no longer exclude empty or all-NA columns when determining the result dtypes. To retain the old behavior, exclude the relevant entries before the concat operation.\n",
      "  df = pd.concat([df, df2_like_df], ignore_index=True)\n",
      "/var/folders/l1/ktg7ylkj42q3hp4jh40_3_xc0000gq/T/ipykernel_71815/3648594800.py:17: FutureWarning: The behavior of DataFrame concatenation with empty or all-NA entries is deprecated. In a future version, this will no longer exclude empty or all-NA columns when determining the result dtypes. To retain the old behavior, exclude the relevant entries before the concat operation.\n",
      "  df = pd.concat([df, df2_like_df], ignore_index=True)\n",
      "/var/folders/l1/ktg7ylkj42q3hp4jh40_3_xc0000gq/T/ipykernel_71815/3648594800.py:17: FutureWarning: The behavior of DataFrame concatenation with empty or all-NA entries is deprecated. In a future version, this will no longer exclude empty or all-NA columns when determining the result dtypes. To retain the old behavior, exclude the relevant entries before the concat operation.\n",
      "  df = pd.concat([df, df2_like_df], ignore_index=True)\n",
      "/var/folders/l1/ktg7ylkj42q3hp4jh40_3_xc0000gq/T/ipykernel_71815/3648594800.py:17: FutureWarning: The behavior of DataFrame concatenation with empty or all-NA entries is deprecated. In a future version, this will no longer exclude empty or all-NA columns when determining the result dtypes. To retain the old behavior, exclude the relevant entries before the concat operation.\n",
      "  df = pd.concat([df, df2_like_df], ignore_index=True)\n",
      "/var/folders/l1/ktg7ylkj42q3hp4jh40_3_xc0000gq/T/ipykernel_71815/3648594800.py:17: FutureWarning: The behavior of DataFrame concatenation with empty or all-NA entries is deprecated. In a future version, this will no longer exclude empty or all-NA columns when determining the result dtypes. To retain the old behavior, exclude the relevant entries before the concat operation.\n",
      "  df = pd.concat([df, df2_like_df], ignore_index=True)\n",
      "/var/folders/l1/ktg7ylkj42q3hp4jh40_3_xc0000gq/T/ipykernel_71815/3648594800.py:17: FutureWarning: The behavior of DataFrame concatenation with empty or all-NA entries is deprecated. In a future version, this will no longer exclude empty or all-NA columns when determining the result dtypes. To retain the old behavior, exclude the relevant entries before the concat operation.\n",
      "  df = pd.concat([df, df2_like_df], ignore_index=True)\n"
     ]
    }
   ],
   "source": [
    "import pandas as pd\n",
    "import os\n",
    "\n",
    "def build_usage_df(messages_path, catalysts_path=None):\n",
    "    df = pd.read_excel(messages_path)\n",
    "\n",
    "    # catalysts_path가 있으면 df2 불러와서 병합\n",
    "    if catalysts_path and os.path.exists(catalysts_path):\n",
    "        df2 = pd.read_excel(catalysts_path)\n",
    "\n",
    "        # df2를 df 구조에 맞게 맞춰서 결합\n",
    "        df_columns = df.columns\n",
    "        df2_like_df = pd.DataFrame(columns=df_columns)\n",
    "        df2_like_df['User Email'] = df2['User Email']\n",
    "        df2_like_df['Created At'] = df2['Created At']\n",
    "\n",
    "        df = pd.concat([df, df2_like_df], ignore_index=True)\n",
    "\n",
    "    # 이메일 → 유저 이름 매핑\n",
    "    email_to_name = df.loc[df['User Name'].notna(), ['User Email', 'User Name']] \\\n",
    "                      .drop_duplicates() \\\n",
    "                      .set_index('User Email')['User Name'].to_dict()\n",
    "\n",
    "    df['User Name'] = df.apply(\n",
    "        lambda row: email_to_name.get(row['User Email'], row['User Name']),\n",
    "        axis=1\n",
    "    )\n",
    "\n",
    "    df['Function Mode'] = df.get('Function Mode', 'catalysts').fillna('catalysts')\n",
    "    df['Sender'] = df.get('Sender', 'user').fillna('user')\n",
    "\n",
    "    df.columns = df.columns.str.lower().str.replace(' ', '_')\n",
    "    df = df[df['sender'] == 'user']\n",
    "    df['created_at'] = pd.to_datetime(df['created_at'])\n",
    "    df['status'] = 'active'\n",
    "\n",
    "    return df\n",
    "\n",
    "companies = ['carret', 'cgsi', 'macquarie', 'clsa', 'anek', 'masterton', 'dendur', 'veda', 'rocksprings', 'icici', 'turiya']\n",
    "\n",
    "for company in companies:\n",
    "    try:\n",
    "        messages_file = f\"{company}_messages.xlsx\"\n",
    "        catalysts_file = f\"{company}_catalysts.xlsx\"\n",
    "        \n",
    "        df = build_usage_df(messages_file, catalysts_file)\n",
    "        globals()[f'df_{company}'] = df\n",
    "    except Exception as e:\n",
    "        print(f\"[{company}] 처리 중 오류 발생: {e}\")\n"
   ]
  },
  {
   "cell_type": "code",
   "execution_count": 13,
   "metadata": {},
   "outputs": [],
   "source": [
    "import pandas as pd\n",
    "\n",
    "# 불러올 기업 리스트\n",
    "companies = ['carret', 'cgsi', 'macquarie', 'clsa', 'anek', 'masterton', 'dendur', 'veda', 'rocksprings', 'icici', 'turiya']\n",
    "\n",
    "# users.xlsx 파일에서 기업별 joined 유저 시트 읽기\n",
    "for company in companies:\n",
    "    try:\n",
    "        df_joined = pd.read_excel('users.xlsx', sheet_name=company)\n",
    "        globals()[f'df_{company}_joined'] = df_joined\n",
    "    except Exception as e:\n",
    "        print(f\"[{company}] joined 유저 시트 불러오기 실패: {e}\")\n"
   ]
  },
  {
   "cell_type": "code",
   "execution_count": 14,
   "metadata": {},
   "outputs": [
    {
     "name": "stderr",
     "output_type": "stream",
     "text": [
      "/var/folders/l1/ktg7ylkj42q3hp4jh40_3_xc0000gq/T/ipykernel_71815/2826649978.py:26: FutureWarning: The behavior of DataFrame concatenation with empty or all-NA entries is deprecated. In a future version, this will no longer exclude empty or all-NA columns when determining the result dtypes. To retain the old behavior, exclude the relevant entries before the concat operation.\n",
      "  df_merged = pd.concat([df_usage, df_missing], ignore_index=True)\n",
      "/var/folders/l1/ktg7ylkj42q3hp4jh40_3_xc0000gq/T/ipykernel_71815/2826649978.py:26: FutureWarning: The behavior of DataFrame concatenation with empty or all-NA entries is deprecated. In a future version, this will no longer exclude empty or all-NA columns when determining the result dtypes. To retain the old behavior, exclude the relevant entries before the concat operation.\n",
      "  df_merged = pd.concat([df_usage, df_missing], ignore_index=True)\n",
      "/var/folders/l1/ktg7ylkj42q3hp4jh40_3_xc0000gq/T/ipykernel_71815/2826649978.py:26: FutureWarning: The behavior of DataFrame concatenation with empty or all-NA entries is deprecated. In a future version, this will no longer exclude empty or all-NA columns when determining the result dtypes. To retain the old behavior, exclude the relevant entries before the concat operation.\n",
      "  df_merged = pd.concat([df_usage, df_missing], ignore_index=True)\n",
      "/var/folders/l1/ktg7ylkj42q3hp4jh40_3_xc0000gq/T/ipykernel_71815/2826649978.py:26: FutureWarning: The behavior of DataFrame concatenation with empty or all-NA entries is deprecated. In a future version, this will no longer exclude empty or all-NA columns when determining the result dtypes. To retain the old behavior, exclude the relevant entries before the concat operation.\n",
      "  df_merged = pd.concat([df_usage, df_missing], ignore_index=True)\n",
      "/var/folders/l1/ktg7ylkj42q3hp4jh40_3_xc0000gq/T/ipykernel_71815/2826649978.py:26: FutureWarning: The behavior of DataFrame concatenation with empty or all-NA entries is deprecated. In a future version, this will no longer exclude empty or all-NA columns when determining the result dtypes. To retain the old behavior, exclude the relevant entries before the concat operation.\n",
      "  df_merged = pd.concat([df_usage, df_missing], ignore_index=True)\n",
      "/var/folders/l1/ktg7ylkj42q3hp4jh40_3_xc0000gq/T/ipykernel_71815/2826649978.py:26: FutureWarning: The behavior of DataFrame concatenation with empty or all-NA entries is deprecated. In a future version, this will no longer exclude empty or all-NA columns when determining the result dtypes. To retain the old behavior, exclude the relevant entries before the concat operation.\n",
      "  df_merged = pd.concat([df_usage, df_missing], ignore_index=True)\n",
      "/var/folders/l1/ktg7ylkj42q3hp4jh40_3_xc0000gq/T/ipykernel_71815/2826649978.py:26: FutureWarning: The behavior of DataFrame concatenation with empty or all-NA entries is deprecated. In a future version, this will no longer exclude empty or all-NA columns when determining the result dtypes. To retain the old behavior, exclude the relevant entries before the concat operation.\n",
      "  df_merged = pd.concat([df_usage, df_missing], ignore_index=True)\n",
      "/var/folders/l1/ktg7ylkj42q3hp4jh40_3_xc0000gq/T/ipykernel_71815/2826649978.py:26: FutureWarning: The behavior of DataFrame concatenation with empty or all-NA entries is deprecated. In a future version, this will no longer exclude empty or all-NA columns when determining the result dtypes. To retain the old behavior, exclude the relevant entries before the concat operation.\n",
      "  df_merged = pd.concat([df_usage, df_missing], ignore_index=True)\n",
      "/var/folders/l1/ktg7ylkj42q3hp4jh40_3_xc0000gq/T/ipykernel_71815/2826649978.py:26: FutureWarning: The behavior of DataFrame concatenation with empty or all-NA entries is deprecated. In a future version, this will no longer exclude empty or all-NA columns when determining the result dtypes. To retain the old behavior, exclude the relevant entries before the concat operation.\n",
      "  df_merged = pd.concat([df_usage, df_missing], ignore_index=True)\n",
      "/var/folders/l1/ktg7ylkj42q3hp4jh40_3_xc0000gq/T/ipykernel_71815/2826649978.py:26: FutureWarning: The behavior of DataFrame concatenation with empty or all-NA entries is deprecated. In a future version, this will no longer exclude empty or all-NA columns when determining the result dtypes. To retain the old behavior, exclude the relevant entries before the concat operation.\n",
      "  df_merged = pd.concat([df_usage, df_missing], ignore_index=True)\n",
      "/var/folders/l1/ktg7ylkj42q3hp4jh40_3_xc0000gq/T/ipykernel_71815/2826649978.py:26: FutureWarning: The behavior of DataFrame concatenation with empty or all-NA entries is deprecated. In a future version, this will no longer exclude empty or all-NA columns when determining the result dtypes. To retain the old behavior, exclude the relevant entries before the concat operation.\n",
      "  df_merged = pd.concat([df_usage, df_missing], ignore_index=True)\n"
     ]
    }
   ],
   "source": [
    "for company in companies:\n",
    "    try:\n",
    "        df_usage = globals().get(f'df_{company}')\n",
    "        df_joined = globals().get(f'df_{company}_joined')\n",
    "\n",
    "        if df_usage is None or df_joined is None:\n",
    "            print(f\"[{company}] usage 또는 joined 데이터 누락. 건너뜀.\")\n",
    "            continue\n",
    "\n",
    "        used_emails = set(df_usage['user_email'].unique())\n",
    "        joined_emails = set(df_joined['user_email'].unique())\n",
    "\n",
    "        # usage에 없는 joined 유저만 추출\n",
    "        joined_no_usage = df_joined[~df_joined['user_email'].isin(used_emails)].copy()\n",
    "\n",
    "        # usage 구조에 맞춰 널값 채우기\n",
    "        df_missing = pd.DataFrame(columns=df_usage.columns)\n",
    "\n",
    "        for col in ['user_email', 'user_name', 'organization']:\n",
    "            if col in df_missing.columns and col in joined_no_usage.columns:\n",
    "                df_missing[col] = joined_no_usage[col].values\n",
    "\n",
    "        df_missing['status'] = 'joined_no_usage'\n",
    "\n",
    "        # 병합\n",
    "        df_merged = pd.concat([df_usage, df_missing], ignore_index=True)\n",
    "\n",
    "        # 최종 저장\n",
    "        globals()[f'df_{company}'] = df_merged\n",
    "\n",
    "    except Exception as e:\n",
    "        print(f\"[{company}] joined 병합 실패: {e}\")\n"
   ]
  },
  {
   "cell_type": "code",
   "execution_count": 15,
   "metadata": {},
   "outputs": [
    {
     "name": "stdout",
     "output_type": "stream",
     "text": [
      "[macquarie] invited 시트 없음: 건너뜀\n",
      "[dendur] invited 시트 없음: 건너뜀\n",
      "[veda] invited 시트 없음: 건너뜀\n",
      "[icici] invited 시트 없음: 건너뜀\n",
      "[turiya] invited 시트 없음: 건너뜀\n"
     ]
    }
   ],
   "source": [
    "import pandas as pd\n",
    "\n",
    "invited_suffix = \"_invited\"\n",
    "invited_sheet_names = pd.ExcelFile('users.xlsx').sheet_names  # 시트 목록 미리 확인\n",
    "\n",
    "for company in companies:\n",
    "    sheet_name = company + invited_suffix\n",
    "    if sheet_name in invited_sheet_names:\n",
    "        try:\n",
    "            df_invited = pd.read_excel('users.xlsx', sheet_name=sheet_name)\n",
    "            globals()[f'df_{company}_invited'] = df_invited\n",
    "        except Exception as e:\n",
    "            print(f\"[{company}] invited 시트 로딩 실패: {e}\")\n",
    "    else:\n",
    "        print(f\"[{company}] invited 시트 없음: 건너뜀\")\n"
   ]
  },
  {
   "cell_type": "code",
   "execution_count": 16,
   "metadata": {},
   "outputs": [
    {
     "name": "stdout",
     "output_type": "stream",
     "text": [
      "[macquarie] usage 또는 invited 데이터 누락. 건너뜀.\n",
      "[dendur] usage 또는 invited 데이터 누락. 건너뜀.\n",
      "[veda] usage 또는 invited 데이터 누락. 건너뜀.\n",
      "[icici] usage 또는 invited 데이터 누락. 건너뜀.\n",
      "[turiya] usage 또는 invited 데이터 누락. 건너뜀.\n"
     ]
    },
    {
     "name": "stderr",
     "output_type": "stream",
     "text": [
      "/var/folders/l1/ktg7ylkj42q3hp4jh40_3_xc0000gq/T/ipykernel_71815/1945249511.py:18: FutureWarning: The behavior of DataFrame concatenation with empty or all-NA entries is deprecated. In a future version, this will no longer exclude empty or all-NA columns when determining the result dtypes. To retain the old behavior, exclude the relevant entries before the concat operation.\n",
      "  df_merged = pd.concat([df_usage, df_missing], ignore_index=True)\n",
      "/var/folders/l1/ktg7ylkj42q3hp4jh40_3_xc0000gq/T/ipykernel_71815/1945249511.py:18: FutureWarning: The behavior of DataFrame concatenation with empty or all-NA entries is deprecated. In a future version, this will no longer exclude empty or all-NA columns when determining the result dtypes. To retain the old behavior, exclude the relevant entries before the concat operation.\n",
      "  df_merged = pd.concat([df_usage, df_missing], ignore_index=True)\n",
      "/var/folders/l1/ktg7ylkj42q3hp4jh40_3_xc0000gq/T/ipykernel_71815/1945249511.py:18: FutureWarning: The behavior of DataFrame concatenation with empty or all-NA entries is deprecated. In a future version, this will no longer exclude empty or all-NA columns when determining the result dtypes. To retain the old behavior, exclude the relevant entries before the concat operation.\n",
      "  df_merged = pd.concat([df_usage, df_missing], ignore_index=True)\n",
      "/var/folders/l1/ktg7ylkj42q3hp4jh40_3_xc0000gq/T/ipykernel_71815/1945249511.py:18: FutureWarning: The behavior of DataFrame concatenation with empty or all-NA entries is deprecated. In a future version, this will no longer exclude empty or all-NA columns when determining the result dtypes. To retain the old behavior, exclude the relevant entries before the concat operation.\n",
      "  df_merged = pd.concat([df_usage, df_missing], ignore_index=True)\n",
      "/var/folders/l1/ktg7ylkj42q3hp4jh40_3_xc0000gq/T/ipykernel_71815/1945249511.py:18: FutureWarning: The behavior of DataFrame concatenation with empty or all-NA entries is deprecated. In a future version, this will no longer exclude empty or all-NA columns when determining the result dtypes. To retain the old behavior, exclude the relevant entries before the concat operation.\n",
      "  df_merged = pd.concat([df_usage, df_missing], ignore_index=True)\n",
      "/var/folders/l1/ktg7ylkj42q3hp4jh40_3_xc0000gq/T/ipykernel_71815/1945249511.py:18: FutureWarning: The behavior of DataFrame concatenation with empty or all-NA entries is deprecated. In a future version, this will no longer exclude empty or all-NA columns when determining the result dtypes. To retain the old behavior, exclude the relevant entries before the concat operation.\n",
      "  df_merged = pd.concat([df_usage, df_missing], ignore_index=True)\n"
     ]
    }
   ],
   "source": [
    "for company in companies:\n",
    "    try:\n",
    "        df_usage = globals().get(f'df_{company}')\n",
    "        df_invited = globals().get(f'df_{company}_invited')\n",
    "\n",
    "        if df_usage is None or df_invited is None:\n",
    "            print(f\"[{company}] usage 또는 invited 데이터 누락. 건너뜀.\")\n",
    "            continue\n",
    "\n",
    "        # usage 구조에 맞춰 invited 데이터 널값 채우기\n",
    "        df_missing = pd.DataFrame(columns=df_usage.columns)\n",
    "\n",
    "        for col in ['user_email', 'organization', 'status']:\n",
    "            if col in df_missing.columns and col in df_invited.columns:\n",
    "                df_missing[col] = df_invited[col].values\n",
    "\n",
    "        # 병합\n",
    "        df_merged = pd.concat([df_usage, df_missing], ignore_index=True)\n",
    "\n",
    "        # 최종 저장\n",
    "        globals()[f'df_{company}'] = df_merged\n",
    "\n",
    "    except Exception as e:\n",
    "        print(f\"[{company}] invited 병합 실패: {e}\")\n"
   ]
  },
  {
   "cell_type": "code",
   "execution_count": 17,
   "metadata": {},
   "outputs": [
    {
     "name": "stderr",
     "output_type": "stream",
     "text": [
      "/var/folders/l1/ktg7ylkj42q3hp4jh40_3_xc0000gq/T/ipykernel_71815/1237485377.py:17: FutureWarning: The behavior of DataFrame concatenation with empty or all-NA entries is deprecated. In a future version, this will no longer exclude empty or all-NA columns when determining the result dtypes. To retain the old behavior, exclude the relevant entries before the concat operation.\n",
      "  df_all = pd.concat(dfs_to_merge, ignore_index=True, sort=False)  # 컬럼 정렬 없이 널값으로 자동 보정\n"
     ]
    }
   ],
   "source": [
    "import pandas as pd\n",
    "\n",
    "# 기업 리스트\n",
    "companies = ['carret', 'cgsi', 'macquarie', 'clsa', 'anek', 'masterton', 'dendur', 'veda', 'rocksprings', 'icici', 'turiya']\n",
    "\n",
    "# 사용 가능한 DataFrame만 수집\n",
    "dfs_to_merge = []\n",
    "\n",
    "for company in companies:\n",
    "    df = globals().get(f'df_{company}')\n",
    "    if df is not None:\n",
    "        dfs_to_merge.append(df)\n",
    "    else:\n",
    "        print(f\"[{company}] 데이터 누락 → 병합 대상에서 제외\")\n",
    "\n",
    "# 병합\n",
    "df_all = pd.concat(dfs_to_merge, ignore_index=True, sort=False)  # 컬럼 정렬 없이 널값으로 자동 보정\n",
    "\n",
    "df_all.to_csv('df_all.csv', index=False)"
   ]
  },
  {
   "cell_type": "code",
   "execution_count": null,
   "metadata": {},
   "outputs": [],
   "source": []
  },
  {
   "cell_type": "code",
   "execution_count": 7,
   "metadata": {},
   "outputs": [
    {
     "name": "stderr",
     "output_type": "stream",
     "text": [
      "/Users/gyuhyun/Documents/Users/venv/lib/python3.11/site-packages/IPython/core/pylabtools.py:170: UserWarning: Glyph 128230 (\\N{PACKAGE}) missing from font(s) DejaVu Sans.\n",
      "  fig.canvas.print_figure(bytes_io, **kw)\n"
     ]
    },
    {
     "data": {
      "image/png": "[encoded data removed]",
      "text/plain": [
       "<Figure size 400x600 with 1 Axes>"
      ]
     },
     "metadata": {},
     "output_type": "display_data"
    }
   ],
   "source": [
    "import pandas as pd\n",
    "import matplotlib.pyplot as plt\n",
    "\n",
    "# 데이터 불러오기\n",
    "# df = pd.read_csv(\"your_data.csv\")  # 또는 이미 df가 있을 경우 생략\n",
    "\n",
    "# 박스플롯\n",
    "plt.figure(figsize=(4, 6))\n",
    "plt.boxplot(df_macquarie['time_to_first_byte'].dropna(), vert=True)\n",
    "plt.ylabel(\"Time to First Byte (ms)\")\n",
    "plt.title(\"📦 Response Time Distribution\")\n",
    "plt.grid(True)\n",
    "plt.show()\n"
   ]
  },
  {
   "cell_type": "code",
   "execution_count": 8,
   "metadata": {},
   "outputs": [
    {
     "name": "stdout",
     "output_type": "stream",
     "text": [
      "count      1089.000000\n",
      "mean      42040.419651\n",
      "std       39284.567363\n",
      "min     -217213.000000\n",
      "25%       21678.000000\n",
      "50%       28532.000000\n",
      "75%       45403.000000\n",
      "max      285718.000000\n",
      "Name: time_to_first_byte, dtype: float64\n"
     ]
    }
   ],
   "source": [
    "import numpy as np\n",
    "\n",
    "\n",
    "df_all['time_to_first_byte'] = df_all['time_to_first_byte'].apply(\n",
    "    lambda x: x if pd.isna(x) or x <= 300_000 else np.nan\n",
    ")\n",
    "\n",
    "\n",
    "# NaN 제외한 값으로 통계 요약\n",
    "df_ttfb = df_all[df_all['time_to_first_byte'].notna()]\n",
    "print(df_ttfb['time_to_first_byte'].describe())\n"
   ]
  },
  {
   "cell_type": "code",
   "execution_count": 11,
   "metadata": {},
   "outputs": [
    {
     "data": {
      "image/png": "[encoded data removed]",
      "text/plain": [
       "<Figure size 1200x600 with 1 Axes>"
      ]
     },
     "metadata": {},
     "output_type": "display_data"
    }
   ],
   "source": [
    "import matplotlib.pyplot as plt\n",
    "\n",
    "# 히스토그램: time_to_first_byte 값 그대로 사용\n",
    "plt.figure(figsize=(12, 6))\n",
    "plt.hist(df_all['time_to_first_byte'], bins=50, color='skyblue', edgecolor='black')\n",
    "plt.title('Distribution of Time to First Byte')\n",
    "plt.xlabel('Time to First Byte (ms)')\n",
    "plt.ylabel('Frequency')\n",
    "plt.grid(True)\n",
    "plt.tight_layout()\n",
    "plt.show()\n"
   ]
  },
  {
   "cell_type": "code",
   "execution_count": null,
   "metadata": {},
   "outputs": [],
   "source": []
  }
 ],
 "metadata": {
  "kernelspec": {
   "display_name": "venv",
   "language": "python",
   "name": "python3"
  },
  "language_info": {
   "codemirror_mode": {
    "name": "ipython",
    "version": 3
   },
   "file_extension": ".py",
   "mimetype": "text/x-python",
   "name": "python",
   "nbconvert_exporter": "python",
   "pygments_lexer": "ipython3",
   "version": "3.11.9"
  }
 },
 "nbformat": 4,
 "nbformat_minor": 2
}
