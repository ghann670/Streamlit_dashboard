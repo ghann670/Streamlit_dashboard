{
 "cells": [
  {
   "cell_type": "code",
   "execution_count": 28,
   "metadata": {},
   "outputs": [],
   "source": [
    "import pandas as pd\n",
    "\n",
    "df_all_messages = pd.read_excel('messages0721.xlsx')\n",
    "df_all_catalysts = pd.read_excel('catalyst0721.xlsx')\n"
   ]
  },
  {
   "cell_type": "code",
   "execution_count": 29,
   "metadata": {},
   "outputs": [],
   "source": [
    "import pandas as pd\n",
    "import os\n",
    "\n",
    "def build_usage_df(messages_path, catalysts_path=None):\n",
    "    df = pd.read_excel(messages_path)\n",
    "\n",
    "    if catalysts_path and os.path.exists(catalysts_path):\n",
    "        df2 = pd.read_excel(catalysts_path)\n",
    "\n",
    "        # 동일 구조로 변환\n",
    "        df_columns = df.columns\n",
    "        df2_like_df = pd.DataFrame(columns=df_columns)\n",
    "        df2_like_df['User Email'] = df2['User Email']\n",
    "        df2_like_df['Created At'] = df2['Created At']\n",
    "        df2_like_df['Organization'] = df2['Organization']  # 필수!\n",
    "\n",
    "        df = pd.concat([df, df2_like_df], ignore_index=True)\n",
    "\n",
    "    # 유저 이름 매핑\n",
    "    email_to_name = df.loc[df['User Name'].notna(), ['User Email', 'User Name']] \\\n",
    "                      .drop_duplicates() \\\n",
    "                      .set_index('User Email')['User Name'].to_dict()\n",
    "\n",
    "    df['User Name'] = df.apply(\n",
    "        lambda row: email_to_name.get(row['User Email'], row['User Name']),\n",
    "        axis=1\n",
    "    )\n",
    "\n",
    "    # 기본 컬럼 처리\n",
    "    df['Function Mode'] = df.get('Function Mode', 'catalysts').fillna('catalysts')\n",
    "    df['Sender'] = df.get('Sender', 'user').fillna('user')\n",
    "    df.columns = df.columns.str.lower().str.replace(' ', '_')\n",
    "\n",
    "    df = df[df['sender'] == 'user']\n",
    "    df['created_at'] = pd.to_datetime(df['created_at'])\n",
    "    df['status'] = 'active'\n",
    "\n",
    "    return df\n"
   ]
  },
  {
   "cell_type": "code",
   "execution_count": 30,
   "metadata": {},
   "outputs": [
    {
     "name": "stdout",
     "output_type": "stream",
     "text": [
      "[cgsi] organization 매칭 실패 (joined)\n",
      "[panvira] organization 매칭 실패 (joined)\n",
      "[rocksprings] organization 매칭 실패 (joined)\n",
      "[turiya] organization 매칭 실패 (joined)\n",
      "[cgsi_invited] organization 매칭 실패 (invited)\n",
      "[panvira_invited] organization 매칭 실패 (invited)\n",
      "[rocksprings_invited] organization 매칭 실패 (invited)\n",
      "[CLSA] division 병합 실패: 'division_new'\n"
     ]
    },
    {
     "name": "stderr",
     "output_type": "stream",
     "text": [
      "/var/folders/l1/ktg7ylkj42q3hp4jh40_3_xc0000gq/T/ipykernel_1831/1880408021.py:17: FutureWarning: The behavior of DataFrame concatenation with empty or all-NA entries is deprecated. In a future version, this will no longer exclude empty or all-NA columns when determining the result dtypes. To retain the old behavior, exclude the relevant entries before the concat operation.\n",
      "  df = pd.concat([df, df2_like_df], ignore_index=True)\n",
      "/var/folders/l1/ktg7ylkj42q3hp4jh40_3_xc0000gq/T/ipykernel_1831/325205943.py:53: FutureWarning: The behavior of DataFrame concatenation with empty or all-NA entries is deprecated. In a future version, this will no longer exclude empty or all-NA columns when determining the result dtypes. To retain the old behavior, exclude the relevant entries before the concat operation.\n",
      "  df_all = pd.concat([df_all, df_missing], ignore_index=True)\n",
      "/var/folders/l1/ktg7ylkj42q3hp4jh40_3_xc0000gq/T/ipykernel_1831/325205943.py:53: FutureWarning: The behavior of DataFrame concatenation with empty or all-NA entries is deprecated. In a future version, this will no longer exclude empty or all-NA columns when determining the result dtypes. To retain the old behavior, exclude the relevant entries before the concat operation.\n",
      "  df_all = pd.concat([df_all, df_missing], ignore_index=True)\n",
      "/var/folders/l1/ktg7ylkj42q3hp4jh40_3_xc0000gq/T/ipykernel_1831/325205943.py:53: FutureWarning: The behavior of DataFrame concatenation with empty or all-NA entries is deprecated. In a future version, this will no longer exclude empty or all-NA columns when determining the result dtypes. To retain the old behavior, exclude the relevant entries before the concat operation.\n",
      "  df_all = pd.concat([df_all, df_missing], ignore_index=True)\n",
      "/var/folders/l1/ktg7ylkj42q3hp4jh40_3_xc0000gq/T/ipykernel_1831/325205943.py:53: FutureWarning: The behavior of DataFrame concatenation with empty or all-NA entries is deprecated. In a future version, this will no longer exclude empty or all-NA columns when determining the result dtypes. To retain the old behavior, exclude the relevant entries before the concat operation.\n",
      "  df_all = pd.concat([df_all, df_missing], ignore_index=True)\n",
      "/var/folders/l1/ktg7ylkj42q3hp4jh40_3_xc0000gq/T/ipykernel_1831/325205943.py:53: FutureWarning: The behavior of DataFrame concatenation with empty or all-NA entries is deprecated. In a future version, this will no longer exclude empty or all-NA columns when determining the result dtypes. To retain the old behavior, exclude the relevant entries before the concat operation.\n",
      "  df_all = pd.concat([df_all, df_missing], ignore_index=True)\n",
      "/var/folders/l1/ktg7ylkj42q3hp4jh40_3_xc0000gq/T/ipykernel_1831/325205943.py:53: FutureWarning: The behavior of DataFrame concatenation with empty or all-NA entries is deprecated. In a future version, this will no longer exclude empty or all-NA columns when determining the result dtypes. To retain the old behavior, exclude the relevant entries before the concat operation.\n",
      "  df_all = pd.concat([df_all, df_missing], ignore_index=True)\n",
      "/var/folders/l1/ktg7ylkj42q3hp4jh40_3_xc0000gq/T/ipykernel_1831/325205943.py:53: FutureWarning: The behavior of DataFrame concatenation with empty or all-NA entries is deprecated. In a future version, this will no longer exclude empty or all-NA columns when determining the result dtypes. To retain the old behavior, exclude the relevant entries before the concat operation.\n",
      "  df_all = pd.concat([df_all, df_missing], ignore_index=True)\n",
      "/var/folders/l1/ktg7ylkj42q3hp4jh40_3_xc0000gq/T/ipykernel_1831/325205943.py:53: FutureWarning: The behavior of DataFrame concatenation with empty or all-NA entries is deprecated. In a future version, this will no longer exclude empty or all-NA columns when determining the result dtypes. To retain the old behavior, exclude the relevant entries before the concat operation.\n",
      "  df_all = pd.concat([df_all, df_missing], ignore_index=True)\n",
      "/var/folders/l1/ktg7ylkj42q3hp4jh40_3_xc0000gq/T/ipykernel_1831/325205943.py:83: FutureWarning: The behavior of DataFrame concatenation with empty or all-NA entries is deprecated. In a future version, this will no longer exclude empty or all-NA columns when determining the result dtypes. To retain the old behavior, exclude the relevant entries before the concat operation.\n",
      "  df_all = pd.concat([df_all, df_missing], ignore_index=True)\n",
      "/var/folders/l1/ktg7ylkj42q3hp4jh40_3_xc0000gq/T/ipykernel_1831/325205943.py:83: FutureWarning: The behavior of DataFrame concatenation with empty or all-NA entries is deprecated. In a future version, this will no longer exclude empty or all-NA columns when determining the result dtypes. To retain the old behavior, exclude the relevant entries before the concat operation.\n",
      "  df_all = pd.concat([df_all, df_missing], ignore_index=True)\n",
      "/var/folders/l1/ktg7ylkj42q3hp4jh40_3_xc0000gq/T/ipykernel_1831/325205943.py:83: FutureWarning: The behavior of DataFrame concatenation with empty or all-NA entries is deprecated. In a future version, this will no longer exclude empty or all-NA columns when determining the result dtypes. To retain the old behavior, exclude the relevant entries before the concat operation.\n",
      "  df_all = pd.concat([df_all, df_missing], ignore_index=True)\n"
     ]
    }
   ],
   "source": [
    "import pandas as pd\n",
    "\n",
    "# ✅ usage 통합 데이터프레임\n",
    "df_all = build_usage_df(\"messages0721.xlsx\", \"catalyst0721.xlsx\")\n",
    "df_all['user_email'] = df_all['user_email'].str.strip().str.lower()\n",
    "\n",
    "# ✅ users.xlsx 파일 로딩\n",
    "users_xlsx = pd.ExcelFile('users.xlsx')\n",
    "all_sheet_names = users_xlsx.sheet_names\n",
    "\n",
    "# ✅ CLSA 관련 division 데이터 병합용으로 따로 모두 수집\n",
    "df_div_joined = pd.read_excel(users_xlsx, sheet_name='clsa')\n",
    "df_div_invited = pd.read_excel(users_xlsx, sheet_name='clsa_invited')\n",
    "\n",
    "for df in [df_div_joined, df_div_invited]:\n",
    "    df['user_email'] = df['user_email'].str.strip().str.lower()\n",
    "    df['division'] = df['division'].astype(str).str.strip()\n",
    "\n",
    "# ✅ 두 시트 병합 → email-division 매핑 테이블 생성\n",
    "email_div_map = pd.concat([\n",
    "    df_div_joined[['user_email', 'division']],\n",
    "    df_div_invited[['user_email', 'division']]\n",
    "], ignore_index=True).dropna(subset=['user_email', 'division']).drop_duplicates()\n",
    "\n",
    "# ✅ 1️⃣ joined 병합\n",
    "for sheet_name in all_sheet_names:\n",
    "    if \"_invited\" in sheet_name:\n",
    "        continue\n",
    "\n",
    "    try:\n",
    "        df_joined = pd.read_excel(users_xlsx, sheet_name=sheet_name)\n",
    "        df_joined['user_email'] = df_joined['user_email'].str.strip().str.lower()\n",
    "\n",
    "        org_matches = df_all['organization'].dropna().unique()\n",
    "        org_matched = next((org for org in org_matches if sheet_name.lower() in org.lower()), None)\n",
    "\n",
    "        if not org_matched:\n",
    "            print(f\"[{sheet_name}] organization 매칭 실패 (joined)\")\n",
    "            continue\n",
    "\n",
    "        df_usage = df_all[df_all['organization'] == org_matched]\n",
    "        used_emails = set(df_usage['user_email'].unique())\n",
    "        joined_no_usage = df_joined[~df_joined['user_email'].isin(used_emails)].copy()\n",
    "\n",
    "        df_missing = pd.DataFrame(columns=df_all.columns)\n",
    "        for col in ['user_email', 'user_name', 'organization']:\n",
    "            if col in df_missing.columns and col in joined_no_usage.columns:\n",
    "                df_missing[col] = joined_no_usage[col].values\n",
    "\n",
    "        df_missing['status'] = 'joined_no_usage'\n",
    "        df_missing['organization'] = org_matched\n",
    "\n",
    "        df_all = pd.concat([df_all, df_missing], ignore_index=True)\n",
    "\n",
    "    except Exception as e:\n",
    "        print(f\"[{sheet_name}] joined 병합 실패: {e}\")\n",
    "\n",
    "# ✅ 2️⃣ invited 병합\n",
    "for sheet_name in all_sheet_names:\n",
    "    if not sheet_name.endswith(\"_invited\"):\n",
    "        continue\n",
    "\n",
    "    try:\n",
    "        df_invited = pd.read_excel(users_xlsx, sheet_name=sheet_name)\n",
    "        df_invited['user_email'] = df_invited['user_email'].str.strip().str.lower()\n",
    "\n",
    "        company_base = sheet_name.replace(\"_invited\", \"\")\n",
    "        org_matches = df_all['organization'].dropna().unique()\n",
    "        org_matched = next((org for org in org_matches if company_base.lower() in org.lower()), None)\n",
    "\n",
    "        if not org_matched:\n",
    "            print(f\"[{sheet_name}] organization 매칭 실패 (invited)\")\n",
    "            continue\n",
    "\n",
    "        df_missing = pd.DataFrame(columns=df_all.columns)\n",
    "        for col in ['user_email', 'organization', 'status']:\n",
    "            if col in df_missing.columns and col in df_invited.columns:\n",
    "                df_missing[col] = df_invited[col].values\n",
    "\n",
    "        df_missing['status'] = 'invited_not_joined'\n",
    "        df_missing['organization'] = org_matched\n",
    "\n",
    "        df_all = pd.concat([df_all, df_missing], ignore_index=True)\n",
    "\n",
    "    except Exception as e:\n",
    "        print(f\"[{sheet_name}] invited 병합 실패: {e}\")\n",
    "\n",
    "# ✅ CLSA division 병합 (joined + invited 기반으로 만든 전체 테이블)\n",
    "try:\n",
    "    df_all = df_all.merge(email_div_map, on='user_email', how='left', suffixes=('', '_new'))\n",
    "    df_all['division'] = df_all['division'].combine_first(df_all['division_new'])\n",
    "    df_all.drop(columns=['division_new'], inplace=True)\n",
    "except Exception as e:\n",
    "    print(f\"[CLSA] division 병합 실패: {e}\")\n",
    "\n",
    "# ✅ earnings/briefing 정보 수집 및 컬럼 추가\n",
    "email_feature_map = {}\n",
    "for sheet_name in all_sheet_names:\n",
    "    if \"_invited\" in sheet_name:  # invited 시트는 건너뛰기\n",
    "        continue\n",
    "        \n",
    "    try:\n",
    "        df_sheet = pd.read_excel(users_xlsx, sheet_name=sheet_name)\n",
    "        df_sheet['user_email'] = df_sheet['user_email'].str.strip().str.lower()\n",
    "        \n",
    "        # earnings와 briefing 정보 수집\n",
    "        for feature in ['earnings', 'briefing']:\n",
    "            if feature in df_sheet.columns:\n",
    "                for email, status in df_sheet[['user_email', feature]].values:\n",
    "                    if pd.notna(email):\n",
    "                        if email not in email_feature_map:\n",
    "                            email_feature_map[email] = {}\n",
    "                        if pd.notna(status):  # status가 있을 때만 저장\n",
    "                            email_feature_map[email][feature] = status\n",
    "                        \n",
    "    except Exception as e:\n",
    "        print(f\"[{sheet_name}] feature 정보 수집 실패: {e}\")\n",
    "\n",
    "# earnings/briefing 컬럼 추가\n",
    "df_all['earnings'] = df_all['user_email'].map(lambda x: email_feature_map.get(x, {}).get('earnings', None))\n",
    "df_all['briefing'] = df_all['user_email'].map(lambda x: email_feature_map.get(x, {}).get('briefing', None))\n",
    "\n",
    "# ✅ 저장\n",
    "df_all.to_csv(\"df_all.csv\", index=False)"
   ]
  },
  {
   "cell_type": "code",
   "execution_count": 33,
   "metadata": {},
   "outputs": [
    {
     "name": "stdout",
     "output_type": "stream",
     "text": [
      "처리 전 전체 데이터 수: 2034\n",
      "\n",
      "각 조건에 해당하는 데이터 수:\n",
      "음수 값: 4\n",
      "0값: 0\n",
      "5분 이상: 94\n",
      "\n",
      "처리 후 통계:\n",
      "count      1309.000000\n",
      "mean      42838.188694\n",
      "std       37732.328800\n",
      "min        3060.000000\n",
      "25%       21684.000000\n",
      "50%       28865.000000\n",
      "75%       46866.000000\n",
      "max      285718.000000\n",
      "Name: time_to_first_byte, dtype: float64\n",
      "\n",
      "최종 결과:\n",
      "null 값 개수: 725\n",
      "유효한 데이터 수: 1309\n"
     ]
    },
    {
     "data": {
      "image/png": "[encoded data removed]",
      "text/plain": [
       "<Figure size 1200x600 with 1 Axes>"
      ]
     },
     "metadata": {},
     "output_type": "display_data"
    }
   ],
   "source": [
    "# 원본 데이터 개수 출력\n",
    "print(\"처리 전 전체 데이터 수:\", len(df_all))\n",
    "\n",
    "# 조건에 맞는 데이터 개수 확인\n",
    "print(\"\\n각 조건에 해당하는 데이터 수:\")\n",
    "print(\"음수 값:\", df_all[df_all['time_to_first_byte'] < 0].shape[0])\n",
    "print(\"0값:\", df_all[df_all['time_to_first_byte'] == 0].shape[0])\n",
    "print(\"5분 이상:\", df_all[df_all['time_to_first_byte'] > 300000].shape[0])\n",
    "\n",
    "# 값 변경 (null로 설정)\n",
    "df_all.loc[df_all['time_to_first_byte'] <= 0, 'time_to_first_byte'] = None  # 0 이하 제거\n",
    "df_all.loc[df_all['time_to_first_byte'] > 300000, 'time_to_first_byte'] = None  # 5분 초과 제거\n",
    "\n",
    "# 처리 후 통계\n",
    "print(\"\\n처리 후 통계:\")\n",
    "print(df_all['time_to_first_byte'].describe())\n",
    "\n",
    "# null이 된 개수와 남은 유효한 데이터 개수 확인\n",
    "print(\"\\n최종 결과:\")\n",
    "print(\"null 값 개수:\", df_all['time_to_first_byte'].isna().sum())\n",
    "print(\"유효한 데이터 수:\", df_all['time_to_first_byte'].notna().sum())\n",
    "\n",
    "# 히스토그램으로 확인\n",
    "import matplotlib.pyplot as plt\n",
    "import seaborn as sns\n",
    "\n",
    "plt.figure(figsize=(12, 6))\n",
    "sns.histplot(data=df_all, x='time_to_first_byte', bins=50)\n",
    "plt.title('Distribution of Time to First Byte (After Processing)')\n",
    "plt.xlabel('Time (ms)')\n",
    "plt.show()"
   ]
  },
  {
   "cell_type": "code",
   "execution_count": 34,
   "metadata": {},
   "outputs": [
    {
     "data": {
      "text/plain": [
       "earnings\n",
       "onboarded    896\n",
       "Name: count, dtype: int64"
      ]
     },
     "execution_count": 34,
     "metadata": {},
     "output_type": "execute_result"
    }
   ],
   "source": [
    "df_all.earnings.value_counts()"
   ]
  },
  {
   "cell_type": "code",
   "execution_count": 35,
   "metadata": {},
   "outputs": [
    {
     "data": {
      "text/plain": [
       "briefing\n",
       "onboarded    670\n",
       "Name: count, dtype: int64"
      ]
     },
     "execution_count": 35,
     "metadata": {},
     "output_type": "execute_result"
    }
   ],
   "source": [
    "df_all.briefing.value_counts()"
   ]
  },
  {
   "cell_type": "code",
   "execution_count": 3,
   "metadata": {},
   "outputs": [
    {
     "name": "stdout",
     "output_type": "stream",
     "text": [
      "<class 'pandas.core.frame.DataFrame'>\n",
      "RangeIndex: 2034 entries, 0 to 2033\n",
      "Data columns (total 14 columns):\n",
      " #   Column              Non-Null Count  Dtype  \n",
      "---  ------              --------------  -----  \n",
      " 0   id                  1952 non-null   object \n",
      " 1   selected_model      1952 non-null   object \n",
      " 2   sender              2014 non-null   object \n",
      " 3   function_mode       2014 non-null   object \n",
      " 4   user_name           2017 non-null   object \n",
      " 5   user_email          2034 non-null   object \n",
      " 6   user_group          1952 non-null   object \n",
      " 7   organization        2034 non-null   object \n",
      " 8   time_to_first_byte  1407 non-null   float64\n",
      " 9   created_at          2014 non-null   object \n",
      " 10  status              2034 non-null   object \n",
      " 11  division            106 non-null    object \n",
      " 12  earnings            896 non-null    object \n",
      " 13  briefing            670 non-null    object \n",
      "dtypes: float64(1), object(13)\n",
      "memory usage: 222.6+ KB\n"
     ]
    }
   ],
   "source": [
    "df_all.info()"
   ]
  },
  {
   "cell_type": "code",
   "execution_count": null,
   "metadata": {},
   "outputs": [],
   "source": []
  }
 ],
 "metadata": {
  "kernelspec": {
   "display_name": "venv",
   "language": "python",
   "name": "python3"
  },
  "language_info": {
   "codemirror_mode": {
    "name": "ipython",
    "version": 3
   },
   "file_extension": ".py",
   "mimetype": "text/x-python",
   "name": "python",
   "nbconvert_exporter": "python",
   "pygments_lexer": "ipython3",
   "version": "3.11.9"
  }
 },
 "nbformat": 4,
 "nbformat_minor": 2
}
