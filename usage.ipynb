{
 "cells": [
  {
   "cell_type": "markdown",
   "metadata": {},
   "source": [
    "## Carret "
   ]
  },
  {
   "cell_type": "code",
   "execution_count": 28,
   "metadata": {},
   "outputs": [],
   "source": [
    "import pandas as pd\n",
    "\n",
    "# Excel 파일에서 'carret' 시트 읽어서 df_carret_joined로 저장\n",
    "df_carret_joined = pd.read_excel(\"users.xlsx\", sheet_name=\"carret\")"
   ]
  },
  {
   "cell_type": "code",
   "execution_count": 36,
   "metadata": {},
   "outputs": [],
   "source": [
    "import pandas as pd  \n",
    "\n",
    "\n",
    "df = pd.read_excel('carret_messages.xlsx')\n",
    "df2 = pd.read_excel('carret_catalysts.xlsx')\n",
    "\n",
    "# df의 컬럼 구조를 복사\n",
    "df_columns = df.columns\n",
    "\n",
    "# df2에서 필요한 컬럼만 추출\n",
    "df2_selected = df2[['User Email', 'Created At']]\n",
    "\n",
    "# df 구조에 맞게 빈 DataFrame 생성\n",
    "# 나머지 컬럼은 NaN, 필요한 컬럼만 값 채우기\n",
    "df2_like_df = pd.DataFrame(columns=df_columns)\n",
    "\n",
    "# 값 채우기\n",
    "df2_like_df['User Email'] = df2_selected['User Email']\n",
    "df2_like_df['Created At'] = df2_selected['Created At']\n",
    "\n",
    "merged_df = pd.concat([df, df2_like_df], ignore_index=True)\n",
    "\n",
    "# 1. user email과 user name의 매핑 딕셔너리 생성 (user name이 null이 아닌 것만)\n",
    "email_to_name = merged_df.loc[merged_df['User Name'].notna(), ['User Email', 'User Name']] \\\n",
    "                  .drop_duplicates() \\\n",
    "                  .set_index('User Email')['User Name'].to_dict()\n",
    "\n",
    "\n",
    "# 2. user name이 NaN인 곳에 매핑된 값 넣기\n",
    "merged_df['User Name'] = merged_df.apply(\n",
    "    lambda row: email_to_name.get(row['User Email'], row['User Name']),\n",
    "    axis=1\n",
    ")\n",
    "\n",
    "\n",
    "merged_df['Function Mode'] = merged_df['Function Mode'].fillna('catalysts')\n",
    "merged_df['Sender'] = merged_df['Sender'].fillna('user')\n",
    "\n",
    "merged_df.columns = merged_df.columns.str.lower().str.replace(' ', '_')\n",
    "\n",
    "merged_df = merged_df[merged_df['sender'] == 'user']\n",
    "\n",
    "merged_df['created_at'] = pd.to_datetime(merged_df['created_at'])\n",
    "\n",
    "df_carret = merged_df\n",
    "\n",
    "df_carret['status'] = 'active'\n",
    "\n"
   ]
  },
  {
   "cell_type": "code",
   "execution_count": 37,
   "metadata": {},
   "outputs": [
    {
     "name": "stderr",
     "output_type": "stream",
     "text": [
      "/var/folders/l1/ktg7ylkj42q3hp4jh40_3_xc0000gq/T/ipykernel_23503/1424718954.py:21: FutureWarning: The behavior of DataFrame concatenation with empty or all-NA entries is deprecated. In a future version, this will no longer exclude empty or all-NA columns when determining the result dtypes. To retain the old behavior, exclude the relevant entries before the concat operation.\n",
      "  df_carret = pd.concat([df_carret, df_missing_users], ignore_index=True)\n"
     ]
    },
    {
     "data": {
      "text/plain": [
       "status\n",
       "active             425\n",
       "joined_no_usage      4\n",
       "Name: count, dtype: int64"
      ]
     },
     "execution_count": 37,
     "metadata": {},
     "output_type": "execute_result"
    }
   ],
   "source": [
    "# joined_no_usage 유저 분류\n",
    "\n",
    "# 1. 이메일 기준으로 중복 없이 active 유저 이메일만 추출\n",
    "used_emails = set(df_carret['user_email'].unique())\n",
    "\n",
    "# 2. 아직 usage에 없는 joined 유저만 필터링\n",
    "df_joined_no_usage = df_carret_joined[~df_carret_joined['user_email'].isin(used_emails)].copy()\n",
    "\n",
    "# 3. df_carret_usage의 컬럼 구조로 맞춰 빈 데이터프레임 생성\n",
    "df_missing_users = pd.DataFrame(columns=df_carret.columns)\n",
    "\n",
    "# 4. 공통 컬럼 채우기 (user_email, user_name, organization)\n",
    "for col in ['user_email', 'user_name', 'organization']:\n",
    "    if col in df_missing_users.columns and col in df_joined_no_usage.columns:\n",
    "        df_missing_users[col] = df_joined_no_usage[col].values\n",
    "\n",
    "# 5. status는 joined_no_usage로 지정\n",
    "df_missing_users['status'] = 'joined_no_usage'\n",
    "\n",
    "# 6. 병합 (중복 이메일이 들어가지 않도록)\n",
    "df_carret = pd.concat([df_carret, df_missing_users], ignore_index=True)\n",
    "df_carret.status.value_counts()"
   ]
  },
  {
   "cell_type": "code",
   "execution_count": 38,
   "metadata": {},
   "outputs": [
    {
     "name": "stderr",
     "output_type": "stream",
     "text": [
      "/var/folders/l1/ktg7ylkj42q3hp4jh40_3_xc0000gq/T/ipykernel_23503/3084175730.py:20: FutureWarning: The behavior of DataFrame concatenation with empty or all-NA entries is deprecated. In a future version, this will no longer exclude empty or all-NA columns when determining the result dtypes. To retain the old behavior, exclude the relevant entries before the concat operation.\n",
      "  df_carret = pd.concat([df_carret, df_missing_invited], ignore_index=True)\n"
     ]
    },
    {
     "data": {
      "text/plain": [
       "status\n",
       "active                425\n",
       "joined_no_usage         4\n",
       "invited_not_joined      2\n",
       "Name: count, dtype: int64"
      ]
     },
     "execution_count": 38,
     "metadata": {},
     "output_type": "execute_result"
    }
   ],
   "source": [
    "# invited_not_joined 유저 분류\n",
    "\n",
    "df_carret_invited = pd.read_excel(\"users.xlsx\", sheet_name=\"carret_invited\")\n",
    "\n",
    "# 1. 이미 df_carret에 포함된 이메일 리스트\n",
    "existing_emails = set(df_carret['user_email'].unique())\n",
    "\n",
    "# 2. 아직 포함되지 않은 invited 유저만 필터링\n",
    "df_invited_to_add = df_carret_invited[~df_carret_invited['user_email'].isin(existing_emails)].copy()\n",
    "\n",
    "# 3. df_carret의 컬럼 구조에 맞춘 빈 DataFrame 생성\n",
    "df_missing_invited = pd.DataFrame(columns=df_carret.columns)\n",
    "\n",
    "# 4. 공통 컬럼만 채워넣기\n",
    "for col in ['user_email', 'organization', 'status']:\n",
    "    if col in df_missing_invited.columns and col in df_invited_to_add.columns:\n",
    "        df_missing_invited[col] = df_invited_to_add[col].values\n",
    "\n",
    "# 5. 병합\n",
    "df_carret = pd.concat([df_carret, df_missing_invited], ignore_index=True)\n",
    "df_carret.status.value_counts()"
   ]
  },
  {
   "cell_type": "markdown",
   "metadata": {},
   "source": [
    "## Veda Capital"
   ]
  },
  {
   "cell_type": "code",
   "execution_count": 3,
   "metadata": {},
   "outputs": [
    {
     "name": "stdout",
     "output_type": "stream",
     "text": [
      "<class 'pandas.core.frame.DataFrame'>\n",
      "Index: 21 entries, 0 to 34\n",
      "Data columns (total 10 columns):\n",
      " #   Column          Non-Null Count  Dtype         \n",
      "---  ------          --------------  -----         \n",
      " 0   id              19 non-null     object        \n",
      " 1   selected_model  19 non-null     object        \n",
      " 2   sender          21 non-null     object        \n",
      " 3   function_mode   21 non-null     object        \n",
      " 4   user_name       21 non-null     object        \n",
      " 5   user_email      21 non-null     object        \n",
      " 6   user_group      19 non-null     object        \n",
      " 7   organization    19 non-null     object        \n",
      " 8   created_at      21 non-null     datetime64[ns]\n",
      " 9   status          21 non-null     object        \n",
      "dtypes: datetime64[ns](1), object(9)\n",
      "memory usage: 1.8+ KB\n"
     ]
    }
   ],
   "source": [
    "import pandas as pd  \n",
    "\n",
    "\n",
    "df = pd.read_excel('veda_messages.xlsx')\n",
    "df2 = pd.read_excel('veda_catalysts.xlsx')\n",
    "\n",
    "# df의 컬럼 구조를 복사\n",
    "df_columns = df.columns\n",
    "\n",
    "# df2에서 필요한 컬럼만 추출\n",
    "df2_selected = df2[['User Email', 'Created At']]\n",
    "\n",
    "# df 구조에 맞게 빈 DataFrame 생성\n",
    "# 나머지 컬럼은 NaN, 필요한 컬럼만 값 채우기\n",
    "df2_like_df = pd.DataFrame(columns=df_columns)\n",
    "\n",
    "# 값 채우기\n",
    "df2_like_df['User Email'] = df2_selected['User Email']\n",
    "df2_like_df['Created At'] = df2_selected['Created At']\n",
    "\n",
    "merged_df = pd.concat([df, df2_like_df], ignore_index=True)\n",
    "\n",
    "# 1. user email과 user name의 매핑 딕셔너리 생성 (user name이 null이 아닌 것만)\n",
    "email_to_name = merged_df.loc[merged_df['User Name'].notna(), ['User Email', 'User Name']] \\\n",
    "                  .drop_duplicates() \\\n",
    "                  .set_index('User Email')['User Name'].to_dict()\n",
    "\n",
    "\n",
    "# 2. user name이 NaN인 곳에 매핑된 값 넣기\n",
    "merged_df['User Name'] = merged_df.apply(\n",
    "    lambda row: email_to_name.get(row['User Email'], row['User Name']),\n",
    "    axis=1\n",
    ")\n",
    "\n",
    "\n",
    "merged_df['Function Mode'] = merged_df['Function Mode'].fillna('catalysts')\n",
    "merged_df['Sender'] = merged_df['Sender'].fillna('user')\n",
    "\n",
    "merged_df.columns = merged_df.columns.str.lower().str.replace(' ', '_')\n",
    "\n",
    "merged_df = merged_df[merged_df['sender'] == 'user']\n",
    "\n",
    "merged_df['created_at'] = pd.to_datetime(merged_df['created_at'])\n",
    "\n",
    "df_veda = merged_df\n",
    "\n",
    "df_veda['status'] = 'active'\n",
    "df_veda.info()\n"
   ]
  },
  {
   "cell_type": "markdown",
   "metadata": {},
   "source": [
    "## ICICI Prudential"
   ]
  },
  {
   "cell_type": "code",
   "execution_count": 4,
   "metadata": {},
   "outputs": [
    {
     "name": "stdout",
     "output_type": "stream",
     "text": [
      "<class 'pandas.core.frame.DataFrame'>\n",
      "Index: 21 entries, 2 to 37\n",
      "Data columns (total 10 columns):\n",
      " #   Column          Non-Null Count  Dtype         \n",
      "---  ------          --------------  -----         \n",
      " 0   id              21 non-null     object        \n",
      " 1   selected_model  21 non-null     object        \n",
      " 2   sender          21 non-null     object        \n",
      " 3   function_mode   21 non-null     object        \n",
      " 4   user_name       21 non-null     object        \n",
      " 5   user_email      21 non-null     object        \n",
      " 6   user_group      21 non-null     object        \n",
      " 7   organization    21 non-null     object        \n",
      " 8   created_at      21 non-null     datetime64[ns]\n",
      " 9   status          21 non-null     object        \n",
      "dtypes: datetime64[ns](1), object(9)\n",
      "memory usage: 1.8+ KB\n"
     ]
    }
   ],
   "source": [
    "import pandas as pd  \n",
    "\n",
    "\n",
    "df = pd.read_excel('icici_messages.xlsx')\n",
    "\n",
    "\n",
    "\n",
    "df.columns = df.columns.str.lower().str.replace(' ', '_')\n",
    "\n",
    "df = df[df['sender'] == 'user']\n",
    "\n",
    "df['created_at'] = pd.to_datetime(df['created_at'])\n",
    "\n",
    "df['status'] = 'active'\n",
    "\n",
    "df_icici = df\n",
    "\n",
    "df_icici.info()\n"
   ]
  },
  {
   "cell_type": "markdown",
   "metadata": {},
   "source": [
    "## J&M Copper "
   ]
  },
  {
   "cell_type": "code",
   "execution_count": 5,
   "metadata": {},
   "outputs": [
    {
     "name": "stdout",
     "output_type": "stream",
     "text": [
      "<class 'pandas.core.frame.DataFrame'>\n",
      "Index: 38 entries, 0 to 74\n",
      "Data columns (total 10 columns):\n",
      " #   Column          Non-Null Count  Dtype         \n",
      "---  ------          --------------  -----         \n",
      " 0   id              38 non-null     object        \n",
      " 1   selected_model  38 non-null     object        \n",
      " 2   sender          38 non-null     object        \n",
      " 3   function_mode   38 non-null     object        \n",
      " 4   user_name       38 non-null     object        \n",
      " 5   user_email      38 non-null     object        \n",
      " 6   user_group      38 non-null     object        \n",
      " 7   organization    38 non-null     object        \n",
      " 8   created_at      38 non-null     datetime64[ns]\n",
      " 9   status          38 non-null     object        \n",
      "dtypes: datetime64[ns](1), object(9)\n",
      "memory usage: 3.3+ KB\n"
     ]
    }
   ],
   "source": [
    "import pandas as pd  \n",
    "\n",
    "\n",
    "df = pd.read_excel('jmcopper_messages.xlsx')\n",
    "\n",
    "\n",
    "\n",
    "df.columns = df.columns.str.lower().str.replace(' ', '_')\n",
    "\n",
    "df = df[df['sender'] == 'user']\n",
    "\n",
    "df['created_at'] = pd.to_datetime(df['created_at'])\n",
    "\n",
    "df['status'] = 'active'\n",
    "\n",
    "df.info()\n"
   ]
  },
  {
   "cell_type": "code",
   "execution_count": 6,
   "metadata": {},
   "outputs": [
    {
     "name": "stdout",
     "output_type": "stream",
     "text": [
      "<class 'pandas.core.frame.DataFrame'>\n",
      "RangeIndex: 39 entries, 0 to 38\n",
      "Data columns (total 10 columns):\n",
      " #   Column          Non-Null Count  Dtype         \n",
      "---  ------          --------------  -----         \n",
      " 0   id              38 non-null     object        \n",
      " 1   selected_model  38 non-null     object        \n",
      " 2   sender          38 non-null     object        \n",
      " 3   function_mode   38 non-null     object        \n",
      " 4   user_name       39 non-null     object        \n",
      " 5   user_email      39 non-null     object        \n",
      " 6   user_group      38 non-null     object        \n",
      " 7   organization    39 non-null     object        \n",
      " 8   created_at      38 non-null     datetime64[ns]\n",
      " 9   status          39 non-null     object        \n",
      "dtypes: datetime64[ns](1), object(9)\n",
      "memory usage: 3.2+ KB\n"
     ]
    },
    {
     "name": "stderr",
     "output_type": "stream",
     "text": [
      "/var/folders/l1/ktg7ylkj42q3hp4jh40_3_xc0000gq/T/ipykernel_23503/3575329832.py:23: FutureWarning: The behavior of DataFrame concatenation with empty or all-NA entries is deprecated. In a future version, this will no longer exclude empty or all-NA columns when determining the result dtypes. To retain the old behavior, exclude the relevant entries before the concat operation.\n",
      "  df = pd.concat([df, new_users], ignore_index=True)\n"
     ]
    }
   ],
   "source": [
    "import pandas as pd\n",
    "import numpy as np\n",
    "\n",
    "# 1. 새로 추가할 사용자 정보\n",
    "new_users = pd.DataFrame([\n",
    "    {\n",
    "        'user_name' : 'EJ Ying',\n",
    "        'user_email': 'yejayying@jmcopperbeech.com',\n",
    "        'organization': 'J&M Copper Beech Ventures',\n",
    "        'status': 'inactive'\n",
    "    }\n",
    "])\n",
    "\n",
    "# 2. df와 컬럼 구조 맞추기: 누락된 컬럼은 NaN으로 채움\n",
    "for col in df.columns:\n",
    "    if col not in new_users.columns:\n",
    "        new_users[col] = np.nan\n",
    "\n",
    "# 3. 컬럼 순서를 기존 df에 맞춤\n",
    "new_users = new_users[df.columns]\n",
    "\n",
    "# 4. 병합\n",
    "df = pd.concat([df, new_users], ignore_index=True)\n",
    "\n",
    "df_jmcopper = df\n",
    "df_jmcopper.info()"
   ]
  },
  {
   "cell_type": "markdown",
   "metadata": {},
   "source": [
    "## Dendur Capital"
   ]
  },
  {
   "cell_type": "code",
   "execution_count": 7,
   "metadata": {},
   "outputs": [
    {
     "name": "stdout",
     "output_type": "stream",
     "text": [
      "<class 'pandas.core.frame.DataFrame'>\n",
      "Index: 57 entries, 5 to 104\n",
      "Data columns (total 10 columns):\n",
      " #   Column          Non-Null Count  Dtype         \n",
      "---  ------          --------------  -----         \n",
      " 0   id              57 non-null     object        \n",
      " 1   selected_model  57 non-null     object        \n",
      " 2   sender          57 non-null     object        \n",
      " 3   function_mode   57 non-null     object        \n",
      " 4   user_name       57 non-null     object        \n",
      " 5   user_email      57 non-null     object        \n",
      " 6   user_group      57 non-null     object        \n",
      " 7   organization    57 non-null     object        \n",
      " 8   created_at      57 non-null     datetime64[ns]\n",
      " 9   status          57 non-null     object        \n",
      "dtypes: datetime64[ns](1), object(9)\n",
      "memory usage: 4.9+ KB\n"
     ]
    }
   ],
   "source": [
    "import pandas as pd  \n",
    "\n",
    "\n",
    "df = pd.read_excel('dendur_messages.xlsx')\n",
    "\n",
    "\n",
    "\n",
    "df.columns = df.columns.str.lower().str.replace(' ', '_')\n",
    "\n",
    "df = df[df['sender'] == 'user']\n",
    "\n",
    "df['created_at'] = pd.to_datetime(df['created_at'])\n",
    "\n",
    "df['status'] = 'active'\n",
    "\n",
    "df.info()"
   ]
  },
  {
   "cell_type": "code",
   "execution_count": 8,
   "metadata": {},
   "outputs": [
    {
     "name": "stdout",
     "output_type": "stream",
     "text": [
      "<class 'pandas.core.frame.DataFrame'>\n",
      "RangeIndex: 58 entries, 0 to 57\n",
      "Data columns (total 10 columns):\n",
      " #   Column          Non-Null Count  Dtype         \n",
      "---  ------          --------------  -----         \n",
      " 0   id              57 non-null     object        \n",
      " 1   selected_model  57 non-null     object        \n",
      " 2   sender          57 non-null     object        \n",
      " 3   function_mode   57 non-null     object        \n",
      " 4   user_name       58 non-null     object        \n",
      " 5   user_email      58 non-null     object        \n",
      " 6   user_group      57 non-null     object        \n",
      " 7   organization    58 non-null     object        \n",
      " 8   created_at      57 non-null     datetime64[ns]\n",
      " 9   status          58 non-null     object        \n",
      "dtypes: datetime64[ns](1), object(9)\n",
      "memory usage: 4.7+ KB\n"
     ]
    },
    {
     "name": "stderr",
     "output_type": "stream",
     "text": [
      "/var/folders/l1/ktg7ylkj42q3hp4jh40_3_xc0000gq/T/ipykernel_23503/1382851941.py:23: FutureWarning: The behavior of DataFrame concatenation with empty or all-NA entries is deprecated. In a future version, this will no longer exclude empty or all-NA columns when determining the result dtypes. To retain the old behavior, exclude the relevant entries before the concat operation.\n",
      "  df = pd.concat([df, new_users], ignore_index=True)\n"
     ]
    }
   ],
   "source": [
    "import pandas as pd\n",
    "import numpy as np\n",
    "\n",
    "# 1. 새로 추가할 사용자 정보\n",
    "new_users = pd.DataFrame([\n",
    "    {\n",
    "        'user_name' : 'Mike Anastasio',\n",
    "        'user_email': 'manastasio@dendurcap.com',\n",
    "        'organization': 'Dendur Capital',\n",
    "        'status': 'inactive'\n",
    "    }\n",
    "])\n",
    "\n",
    "# 2. df와 컬럼 구조 맞추기: 누락된 컬럼은 NaN으로 채움\n",
    "for col in df.columns:\n",
    "    if col not in new_users.columns:\n",
    "        new_users[col] = np.nan\n",
    "\n",
    "# 3. 컬럼 순서를 기존 df에 맞춤\n",
    "new_users = new_users[df.columns]\n",
    "\n",
    "# 4. 병합\n",
    "df = pd.concat([df, new_users], ignore_index=True)\n",
    "\n",
    "df_dendur = df\n",
    "df_dendur.info()"
   ]
  },
  {
   "cell_type": "markdown",
   "metadata": {},
   "source": [
    "## Rock Springs Capital"
   ]
  },
  {
   "cell_type": "code",
   "execution_count": 9,
   "metadata": {},
   "outputs": [
    {
     "name": "stdout",
     "output_type": "stream",
     "text": [
      "<class 'pandas.core.frame.DataFrame'>\n",
      "Index: 26 entries, 1 to 51\n",
      "Data columns (total 10 columns):\n",
      " #   Column          Non-Null Count  Dtype         \n",
      "---  ------          --------------  -----         \n",
      " 0   id              26 non-null     object        \n",
      " 1   selected_model  26 non-null     object        \n",
      " 2   sender          26 non-null     object        \n",
      " 3   function_mode   26 non-null     object        \n",
      " 4   user_name       26 non-null     object        \n",
      " 5   user_email      26 non-null     object        \n",
      " 6   user_group      26 non-null     object        \n",
      " 7   organization    26 non-null     object        \n",
      " 8   created_at      26 non-null     datetime64[ns]\n",
      " 9   status          26 non-null     object        \n",
      "dtypes: datetime64[ns](1), object(9)\n",
      "memory usage: 2.2+ KB\n"
     ]
    }
   ],
   "source": [
    "import pandas as pd  \n",
    "\n",
    "\n",
    "df = pd.read_excel('rocksprings_messages.xlsx')\n",
    "\n",
    "\n",
    "\n",
    "df.columns = df.columns.str.lower().str.replace(' ', '_')\n",
    "\n",
    "df = df[df['sender'] == 'user']\n",
    "\n",
    "df['created_at'] = pd.to_datetime(df['created_at'])\n",
    "\n",
    "df['status'] = 'active'\n",
    "\n",
    "df.info()"
   ]
  },
  {
   "cell_type": "code",
   "execution_count": 10,
   "metadata": {},
   "outputs": [
    {
     "name": "stdout",
     "output_type": "stream",
     "text": [
      "<class 'pandas.core.frame.DataFrame'>\n",
      "RangeIndex: 30 entries, 0 to 29\n",
      "Data columns (total 10 columns):\n",
      " #   Column          Non-Null Count  Dtype         \n",
      "---  ------          --------------  -----         \n",
      " 0   id              26 non-null     object        \n",
      " 1   selected_model  26 non-null     object        \n",
      " 2   sender          26 non-null     object        \n",
      " 3   function_mode   26 non-null     object        \n",
      " 4   user_name       29 non-null     object        \n",
      " 5   user_email      30 non-null     object        \n",
      " 6   user_group      26 non-null     object        \n",
      " 7   organization    30 non-null     object        \n",
      " 8   created_at      26 non-null     datetime64[ns]\n",
      " 9   status          30 non-null     object        \n",
      "dtypes: datetime64[ns](1), object(9)\n",
      "memory usage: 2.5+ KB\n"
     ]
    },
    {
     "name": "stderr",
     "output_type": "stream",
     "text": [
      "/var/folders/l1/ktg7ylkj42q3hp4jh40_3_xc0000gq/T/ipykernel_23503/3056658575.py:40: FutureWarning: The behavior of DataFrame concatenation with empty or all-NA entries is deprecated. In a future version, this will no longer exclude empty or all-NA columns when determining the result dtypes. To retain the old behavior, exclude the relevant entries before the concat operation.\n",
      "  df = pd.concat([df, new_users], ignore_index=True)\n"
     ]
    }
   ],
   "source": [
    "import pandas as pd\n",
    "import numpy as np\n",
    "\n",
    "# 1. 새로 추가할 사용자 정보\n",
    "new_users = pd.DataFrame([\n",
    "    {\n",
    "        'user_name' : 'Veric Tan',\n",
    "        'user_email': 'veric@rockspringscapital.com',\n",
    "        'organization': 'Rock Springs Capital',\n",
    "        'status': 'inactive',\n",
    "    },\n",
    "    {\n",
    "        'user_name' : 'Temitope Akande',\n",
    "        'user_email': 'temi@rockspringscapital.com',\n",
    "        'organization': 'Rock Springs Capital',\n",
    "        'status': 'inactive'\n",
    "    },\n",
    "    {\n",
    "        'user_name' : 'Nnamdi Etoh',\n",
    "        'user_email': 'nnamdi@rockspringscapital.com',\n",
    "        'organization': 'Rock Springs Capital',\n",
    "        'status': 'inactive'\n",
    "    },\n",
    "    {\n",
    "        'user_email': 'dave@rockspringscapital.com',\n",
    "        'organization': 'Rock Springs Capital',\n",
    "        'status': 'inactive'\n",
    "    }\n",
    "])\n",
    "\n",
    "# 2. df와 컬럼 구조 맞추기: 누락된 컬럼은 NaN으로 채움\n",
    "for col in df.columns:\n",
    "    if col not in new_users.columns:\n",
    "        new_users[col] = np.nan\n",
    "\n",
    "# 3. 컬럼 순서를 기존 df에 맞춤\n",
    "new_users = new_users[df.columns]\n",
    "\n",
    "# 4. 병합\n",
    "df = pd.concat([df, new_users], ignore_index=True)\n",
    "\n",
    "df_rocksprings = df\n",
    "df_rocksprings.info()"
   ]
  },
  {
   "cell_type": "code",
   "execution_count": 11,
   "metadata": {},
   "outputs": [
    {
     "name": "stdout",
     "output_type": "stream",
     "text": [
      "<class 'pandas.core.frame.DataFrame'>\n",
      "RangeIndex: 596 entries, 0 to 595\n",
      "Data columns (total 10 columns):\n",
      " #   Column          Non-Null Count  Dtype         \n",
      "---  ------          --------------  -----         \n",
      " 0   id              572 non-null    object        \n",
      " 1   selected_model  572 non-null    object        \n",
      " 2   sender          588 non-null    object        \n",
      " 3   function_mode   588 non-null    object        \n",
      " 4   user_name       593 non-null    object        \n",
      " 5   user_email      596 non-null    object        \n",
      " 6   user_group      572 non-null    object        \n",
      " 7   organization    580 non-null    object        \n",
      " 8   created_at      588 non-null    datetime64[ns]\n",
      " 9   status          596 non-null    object        \n",
      "dtypes: datetime64[ns](1), object(9)\n",
      "memory usage: 46.7+ KB\n"
     ]
    }
   ],
   "source": [
    "import pandas as pd\n",
    "\n",
    "# 현재 전역 변수 중에서 df_로 시작하는 DataFrame만 수집\n",
    "dfs = [v for k, v in globals().items() if k.startswith('df_') and isinstance(v, pd.DataFrame)]\n",
    "\n",
    "# 모두 하나로 합치기\n",
    "df_all = pd.concat(dfs, ignore_index=True)\n",
    "df_all.info()"
   ]
  },
  {
   "cell_type": "markdown",
   "metadata": {},
   "source": [
    "## CGSI"
   ]
  },
  {
   "cell_type": "code",
   "execution_count": 12,
   "metadata": {},
   "outputs": [
    {
     "name": "stdout",
     "output_type": "stream",
     "text": [
      "<class 'pandas.core.frame.DataFrame'>\n",
      "Index: 327 entries, 0 to 597\n",
      "Data columns (total 10 columns):\n",
      " #   Column          Non-Null Count  Dtype         \n",
      "---  ------          --------------  -----         \n",
      " 0   id              313 non-null    object        \n",
      " 1   selected_model  313 non-null    object        \n",
      " 2   sender          327 non-null    object        \n",
      " 3   function_mode   327 non-null    object        \n",
      " 4   user_name       327 non-null    object        \n",
      " 5   user_email      327 non-null    object        \n",
      " 6   user_group      313 non-null    object        \n",
      " 7   organization    313 non-null    object        \n",
      " 8   created_at      327 non-null    datetime64[ns]\n",
      " 9   status          327 non-null    object        \n",
      "dtypes: datetime64[ns](1), object(9)\n",
      "memory usage: 28.1+ KB\n"
     ]
    }
   ],
   "source": [
    "import pandas as pd  \n",
    "\n",
    "\n",
    "df = pd.read_excel('cgsi_messages.xlsx')\n",
    "df2 = pd.read_excel('cgsi_catalysts.xlsx')\n",
    "\n",
    "# df의 컬럼 구조를 복사\n",
    "df_columns = df.columns\n",
    "\n",
    "# df2에서 필요한 컬럼만 추출\n",
    "df2_selected = df2[['User Email', 'Created At']]\n",
    "\n",
    "# df 구조에 맞게 빈 DataFrame 생성\n",
    "# 나머지 컬럼은 NaN, 필요한 컬럼만 값 채우기\n",
    "df2_like_df = pd.DataFrame(columns=df_columns)\n",
    "\n",
    "# 값 채우기\n",
    "df2_like_df['User Email'] = df2_selected['User Email']\n",
    "df2_like_df['Created At'] = df2_selected['Created At']\n",
    "\n",
    "merged_df = pd.concat([df, df2_like_df], ignore_index=True)\n",
    "\n",
    "# 1. user email과 user name의 매핑 딕셔너리 생성 (user name이 null이 아닌 것만)\n",
    "email_to_name = merged_df.loc[merged_df['User Name'].notna(), ['User Email', 'User Name']] \\\n",
    "                  .drop_duplicates() \\\n",
    "                  .set_index('User Email')['User Name'].to_dict()\n",
    "\n",
    "\n",
    "# 2. user name이 NaN인 곳에 매핑된 값 넣기\n",
    "merged_df['User Name'] = merged_df.apply(\n",
    "    lambda row: email_to_name.get(row['User Email'], row['User Name']),\n",
    "    axis=1\n",
    ")\n",
    "\n",
    "\n",
    "merged_df['Function Mode'] = merged_df['Function Mode'].fillna('catalysts')\n",
    "merged_df['Sender'] = merged_df['Sender'].fillna('user')\n",
    "\n",
    "merged_df.columns = merged_df.columns.str.lower().str.replace(' ', '_')\n",
    "\n",
    "merged_df = merged_df[merged_df['sender'] == 'user']\n",
    "\n",
    "merged_df['created_at'] = pd.to_datetime(merged_df['created_at'])\n",
    "\n",
    "df_cgsi = merged_df\n",
    "\n",
    "df_cgsi['status'] = 'active'\n",
    "df_cgsi.info()\n"
   ]
  },
  {
   "cell_type": "markdown",
   "metadata": {},
   "source": [
    "## Macquarie"
   ]
  },
  {
   "cell_type": "code",
   "execution_count": 13,
   "metadata": {},
   "outputs": [
    {
     "name": "stdout",
     "output_type": "stream",
     "text": [
      "<class 'pandas.core.frame.DataFrame'>\n",
      "Index: 608 entries, 0 to 1162\n",
      "Data columns (total 10 columns):\n",
      " #   Column          Non-Null Count  Dtype         \n",
      "---  ------          --------------  -----         \n",
      " 0   id              599 non-null    object        \n",
      " 1   selected_model  599 non-null    object        \n",
      " 2   sender          608 non-null    object        \n",
      " 3   function_mode   608 non-null    object        \n",
      " 4   user_name       608 non-null    object        \n",
      " 5   user_email      608 non-null    object        \n",
      " 6   user_group      599 non-null    object        \n",
      " 7   organization    599 non-null    object        \n",
      " 8   created_at      608 non-null    datetime64[ns]\n",
      " 9   status          608 non-null    object        \n",
      "dtypes: datetime64[ns](1), object(9)\n",
      "memory usage: 52.2+ KB\n"
     ]
    }
   ],
   "source": [
    "import pandas as pd  \n",
    "\n",
    "\n",
    "df = pd.read_excel('macquarie_messages.xlsx')\n",
    "df2 = pd.read_excel('macquarie_catalysts.xlsx')\n",
    "\n",
    "# df의 컬럼 구조를 복사\n",
    "df_columns = df.columns\n",
    "\n",
    "# df2에서 필요한 컬럼만 추출\n",
    "df2_selected = df2[['User Email', 'Created At']]\n",
    "\n",
    "# df 구조에 맞게 빈 DataFrame 생성\n",
    "# 나머지 컬럼은 NaN, 필요한 컬럼만 값 채우기\n",
    "df2_like_df = pd.DataFrame(columns=df_columns)\n",
    "\n",
    "# 값 채우기\n",
    "df2_like_df['User Email'] = df2_selected['User Email']\n",
    "df2_like_df['Created At'] = df2_selected['Created At']\n",
    "\n",
    "merged_df = pd.concat([df, df2_like_df], ignore_index=True)\n",
    "\n",
    "# 1. user email과 user name의 매핑 딕셔너리 생성 (user name이 null이 아닌 것만)\n",
    "email_to_name = merged_df.loc[merged_df['User Name'].notna(), ['User Email', 'User Name']] \\\n",
    "                  .drop_duplicates() \\\n",
    "                  .set_index('User Email')['User Name'].to_dict()\n",
    "\n",
    "\n",
    "# 2. user name이 NaN인 곳에 매핑된 값 넣기\n",
    "merged_df['User Name'] = merged_df.apply(\n",
    "    lambda row: email_to_name.get(row['User Email'], row['User Name']),\n",
    "    axis=1\n",
    ")\n",
    "\n",
    "\n",
    "merged_df['Function Mode'] = merged_df['Function Mode'].fillna('catalysts')\n",
    "merged_df['Sender'] = merged_df['Sender'].fillna('user')\n",
    "\n",
    "merged_df.columns = merged_df.columns.str.lower().str.replace(' ', '_')\n",
    "\n",
    "merged_df = merged_df[merged_df['sender'] == 'user']\n",
    "\n",
    "merged_df['created_at'] = pd.to_datetime(merged_df['created_at'])\n",
    "\n",
    "df_macquarie = merged_df\n",
    "\n",
    "df_macquarie['status'] = 'active'\n",
    "df_macquarie.info()\n"
   ]
  },
  {
   "cell_type": "markdown",
   "metadata": {},
   "source": [
    "## CLSA"
   ]
  },
  {
   "cell_type": "code",
   "execution_count": 14,
   "metadata": {},
   "outputs": [
    {
     "name": "stdout",
     "output_type": "stream",
     "text": [
      "<class 'pandas.core.frame.DataFrame'>\n",
      "Index: 87 entries, 1 to 154\n",
      "Data columns (total 10 columns):\n",
      " #   Column          Non-Null Count  Dtype         \n",
      "---  ------          --------------  -----         \n",
      " 0   id              79 non-null     object        \n",
      " 1   selected_model  79 non-null     object        \n",
      " 2   sender          87 non-null     object        \n",
      " 3   function_mode   87 non-null     object        \n",
      " 4   user_name       85 non-null     object        \n",
      " 5   user_email      87 non-null     object        \n",
      " 6   user_group      79 non-null     object        \n",
      " 7   organization    79 non-null     object        \n",
      " 8   created_at      87 non-null     datetime64[ns]\n",
      " 9   status          87 non-null     object        \n",
      "dtypes: datetime64[ns](1), object(9)\n",
      "memory usage: 7.5+ KB\n"
     ]
    }
   ],
   "source": [
    "import pandas as pd  \n",
    "\n",
    "\n",
    "df = pd.read_excel('clsa_messages.xlsx')\n",
    "df2 = pd.read_excel('clsa_catalysts.xlsx')\n",
    "\n",
    "# df의 컬럼 구조를 복사\n",
    "df_columns = df.columns\n",
    "\n",
    "# df2에서 필요한 컬럼만 추출\n",
    "df2_selected = df2[['User Email', 'Created At']]\n",
    "\n",
    "# df 구조에 맞게 빈 DataFrame 생성\n",
    "# 나머지 컬럼은 NaN, 필요한 컬럼만 값 채우기\n",
    "df2_like_df = pd.DataFrame(columns=df_columns)\n",
    "\n",
    "# 값 채우기\n",
    "df2_like_df['User Email'] = df2_selected['User Email']\n",
    "df2_like_df['Created At'] = df2_selected['Created At']\n",
    "\n",
    "merged_df = pd.concat([df, df2_like_df], ignore_index=True)\n",
    "\n",
    "# 1. user email과 user name의 매핑 딕셔너리 생성 (user name이 null이 아닌 것만)\n",
    "email_to_name = merged_df.loc[merged_df['User Name'].notna(), ['User Email', 'User Name']] \\\n",
    "                  .drop_duplicates() \\\n",
    "                  .set_index('User Email')['User Name'].to_dict()\n",
    "\n",
    "\n",
    "# 2. user name이 NaN인 곳에 매핑된 값 넣기\n",
    "merged_df['User Name'] = merged_df.apply(\n",
    "    lambda row: email_to_name.get(row['User Email'], row['User Name']),\n",
    "    axis=1\n",
    ")\n",
    "\n",
    "\n",
    "merged_df['Function Mode'] = merged_df['Function Mode'].fillna('catalysts')\n",
    "merged_df['Sender'] = merged_df['Sender'].fillna('user')\n",
    "\n",
    "merged_df.columns = merged_df.columns.str.lower().str.replace(' ', '_')\n",
    "\n",
    "merged_df = merged_df[merged_df['sender'] == 'user']\n",
    "\n",
    "merged_df['created_at'] = pd.to_datetime(merged_df['created_at'])\n",
    "\n",
    "df_clsa = merged_df\n",
    "\n",
    "df_clsa['status'] = 'active'\n",
    "df_clsa.info()\n"
   ]
  },
  {
   "cell_type": "markdown",
   "metadata": {},
   "source": [
    "## Anek Capital"
   ]
  },
  {
   "cell_type": "code",
   "execution_count": 15,
   "metadata": {},
   "outputs": [
    {
     "name": "stdout",
     "output_type": "stream",
     "text": [
      "<class 'pandas.core.frame.DataFrame'>\n",
      "Index: 6 entries, 2 to 7\n",
      "Data columns (total 11 columns):\n",
      " #   Column                 Non-Null Count  Dtype         \n",
      "---  ------                 --------------  -----         \n",
      " 0   id                     3 non-null      object        \n",
      " 1   search_workflow_input  0 non-null      object        \n",
      " 2   selected_model         3 non-null      object        \n",
      " 3   sender                 6 non-null      object        \n",
      " 4   function_mode          6 non-null      object        \n",
      " 5   user_name              6 non-null      object        \n",
      " 6   user_email             6 non-null      object        \n",
      " 7   user_group             3 non-null      object        \n",
      " 8   organization           3 non-null      object        \n",
      " 9   created_at             6 non-null      datetime64[ns]\n",
      " 10  status                 6 non-null      object        \n",
      "dtypes: datetime64[ns](1), object(10)\n",
      "memory usage: 576.0+ bytes\n"
     ]
    }
   ],
   "source": [
    "import pandas as pd  \n",
    "\n",
    "\n",
    "df = pd.read_excel('anek_messages.xlsx')\n",
    "df2 = pd.read_excel('anek_catalysts.xlsx')\n",
    "\n",
    "# df의 컬럼 구조를 복사\n",
    "df_columns = df.columns\n",
    "\n",
    "# df2에서 필요한 컬럼만 추출\n",
    "df2_selected = df2[['User Email', 'Created At']]\n",
    "\n",
    "# df 구조에 맞게 빈 DataFrame 생성\n",
    "# 나머지 컬럼은 NaN, 필요한 컬럼만 값 채우기\n",
    "df2_like_df = pd.DataFrame(columns=df_columns)\n",
    "\n",
    "# 값 채우기\n",
    "df2_like_df['User Email'] = df2_selected['User Email']\n",
    "df2_like_df['Created At'] = df2_selected['Created At']\n",
    "\n",
    "merged_df = pd.concat([df, df2_like_df], ignore_index=True)\n",
    "\n",
    "# 1. user email과 user name의 매핑 딕셔너리 생성 (user name이 null이 아닌 것만)\n",
    "email_to_name = merged_df.loc[merged_df['User Name'].notna(), ['User Email', 'User Name']] \\\n",
    "                  .drop_duplicates() \\\n",
    "                  .set_index('User Email')['User Name'].to_dict()\n",
    "\n",
    "\n",
    "# 2. user name이 NaN인 곳에 매핑된 값 넣기\n",
    "merged_df['User Name'] = merged_df.apply(\n",
    "    lambda row: email_to_name.get(row['User Email'], row['User Name']),\n",
    "    axis=1\n",
    ")\n",
    "\n",
    "\n",
    "merged_df['Function Mode'] = merged_df['Function Mode'].fillna('catalysts')\n",
    "merged_df['Sender'] = merged_df['Sender'].fillna('user')\n",
    "\n",
    "merged_df.columns = merged_df.columns.str.lower().str.replace(' ', '_')\n",
    "\n",
    "merged_df = merged_df[merged_df['sender'] == 'user']\n",
    "\n",
    "merged_df['created_at'] = pd.to_datetime(merged_df['created_at'])\n",
    "\n",
    "df_anek = merged_df\n",
    "\n",
    "df_anek['status'] = 'active'\n",
    "df_anek.info()\n"
   ]
  },
  {
   "cell_type": "markdown",
   "metadata": {},
   "source": [
    "## Panvira"
   ]
  },
  {
   "cell_type": "code",
   "execution_count": null,
   "metadata": {},
   "outputs": [],
   "source": []
  },
  {
   "cell_type": "markdown",
   "metadata": {},
   "source": [
    "## Masterton Capital"
   ]
  },
  {
   "cell_type": "code",
   "execution_count": 16,
   "metadata": {},
   "outputs": [
    {
     "data": {
      "text/html": [
       "<div>\n",
       "<style scoped>\n",
       "    .dataframe tbody tr th:only-of-type {\n",
       "        vertical-align: middle;\n",
       "    }\n",
       "\n",
       "    .dataframe tbody tr th {\n",
       "        vertical-align: top;\n",
       "    }\n",
       "\n",
       "    .dataframe thead th {\n",
       "        text-align: right;\n",
       "    }\n",
       "</style>\n",
       "<table border=\"1\" class=\"dataframe\">\n",
       "  <thead>\n",
       "    <tr style=\"text-align: right;\">\n",
       "      <th></th>\n",
       "      <th>id</th>\n",
       "      <th>search_workflow_input</th>\n",
       "      <th>selected_model</th>\n",
       "      <th>sender</th>\n",
       "      <th>function_mode</th>\n",
       "      <th>user_name</th>\n",
       "      <th>user_email</th>\n",
       "      <th>user_group</th>\n",
       "      <th>organization</th>\n",
       "      <th>created_at</th>\n",
       "      <th>status</th>\n",
       "    </tr>\n",
       "  </thead>\n",
       "  <tbody>\n",
       "    <tr>\n",
       "      <th>2</th>\n",
       "      <td>952679f0-0b03-4832-8f63-5e32e416dcbc</td>\n",
       "      <td>NaN</td>\n",
       "      <td>integrate_search</td>\n",
       "      <td>user</td>\n",
       "      <td>primer</td>\n",
       "      <td>Jose Alvarez</td>\n",
       "      <td>jalvarez@mastertoncapital.com</td>\n",
       "      <td>general</td>\n",
       "      <td>Masterton Capital</td>\n",
       "      <td>2025-07-11 18:04:40.961</td>\n",
       "      <td>active</td>\n",
       "    </tr>\n",
       "    <tr>\n",
       "      <th>3</th>\n",
       "      <td>fae8f972-54be-428c-ad69-a403eea4bc05</td>\n",
       "      <td>NaN</td>\n",
       "      <td>integrate_search</td>\n",
       "      <td>user</td>\n",
       "      <td>primer</td>\n",
       "      <td>Jose Alvarez</td>\n",
       "      <td>jalvarez@mastertoncapital.com</td>\n",
       "      <td>general</td>\n",
       "      <td>Masterton Capital</td>\n",
       "      <td>2025-07-11 19:04:33.417</td>\n",
       "      <td>active</td>\n",
       "    </tr>\n",
       "  </tbody>\n",
       "</table>\n",
       "</div>"
      ],
      "text/plain": [
       "                                     id  search_workflow_input  \\\n",
       "2  952679f0-0b03-4832-8f63-5e32e416dcbc                    NaN   \n",
       "3  fae8f972-54be-428c-ad69-a403eea4bc05                    NaN   \n",
       "\n",
       "     selected_model sender function_mode     user_name  \\\n",
       "2  integrate_search   user        primer  Jose Alvarez   \n",
       "3  integrate_search   user        primer  Jose Alvarez   \n",
       "\n",
       "                      user_email user_group       organization  \\\n",
       "2  jalvarez@mastertoncapital.com    general  Masterton Capital   \n",
       "3  jalvarez@mastertoncapital.com    general  Masterton Capital   \n",
       "\n",
       "               created_at  status  \n",
       "2 2025-07-11 18:04:40.961  active  \n",
       "3 2025-07-11 19:04:33.417  active  "
      ]
     },
     "execution_count": 16,
     "metadata": {},
     "output_type": "execute_result"
    }
   ],
   "source": [
    "import pandas as pd  \n",
    "\n",
    "\n",
    "df = pd.read_excel('masterton_messages.xlsx')\n",
    "\n",
    "\n",
    "\n",
    "df.columns = df.columns.str.lower().str.replace(' ', '_')\n",
    "\n",
    "df = df[df['sender'] == 'user']\n",
    "\n",
    "df['created_at'] = pd.to_datetime(df['created_at'])\n",
    "\n",
    "df['status'] = 'active'\n",
    "\n",
    "df_masterton = df\n",
    "\n",
    "df_masterton.head()"
   ]
  },
  {
   "cell_type": "markdown",
   "metadata": {},
   "source": [
    "### organization 맵핑"
   ]
  },
  {
   "cell_type": "code",
   "execution_count": 17,
   "metadata": {},
   "outputs": [],
   "source": [
    "# df_all 초기화\n",
    "df_all = pd.DataFrame()\n",
    "\n",
    "# df_anek, df_google 등 자동 합치기\n",
    "for name, df in globals().copy().items():\n",
    "    if name.startswith(\"df_\") and name != \"df_all\" and isinstance(df, pd.DataFrame):\n",
    "        df_all = pd.concat([df_all, df], ignore_index=True)\n"
   ]
  },
  {
   "cell_type": "code",
   "execution_count": 18,
   "metadata": {},
   "outputs": [
    {
     "name": "stdout",
     "output_type": "stream",
     "text": [
      "<class 'pandas.core.frame.DataFrame'>\n",
      "RangeIndex: 1626 entries, 0 to 1625\n",
      "Data columns (total 11 columns):\n",
      " #   Column                 Non-Null Count  Dtype         \n",
      "---  ------                 --------------  -----         \n",
      " 0   id                     1568 non-null   object        \n",
      " 1   selected_model         1568 non-null   object        \n",
      " 2   sender                 1618 non-null   object        \n",
      " 3   function_mode          1618 non-null   object        \n",
      " 4   user_name              1621 non-null   object        \n",
      " 5   user_email             1626 non-null   object        \n",
      " 6   user_group             1568 non-null   object        \n",
      " 7   organization           1624 non-null   object        \n",
      " 8   created_at             1618 non-null   datetime64[ns]\n",
      " 9   status                 1626 non-null   object        \n",
      " 10  search_workflow_input  0 non-null      object        \n",
      "dtypes: datetime64[ns](1), object(10)\n",
      "memory usage: 139.9+ KB\n"
     ]
    }
   ],
   "source": [
    "# 1. user_email → organization 매핑 딕셔너리 생성 (널 아닌 것만)\n",
    "email_to_org = df_all.loc[df_all['organization'].notna(), ['user_email', 'organization']] \\\n",
    "                     .drop_duplicates() \\\n",
    "                     .set_index('user_email')['organization'] \\\n",
    "                     .to_dict()\n",
    "\n",
    "# 2. organization 이 null인 곳에 매핑된 값으로 채우기\n",
    "df_all['organization'] = df_all.apply(\n",
    "    lambda row: email_to_org.get(row['user_email'], row['organization']),\n",
    "    axis=1\n",
    ")\n",
    "df_all.info()"
   ]
  },
  {
   "cell_type": "code",
   "execution_count": 20,
   "metadata": {},
   "outputs": [],
   "source": [
    "df_all.to_csv(\"df_all.csv\", index=False)\n"
   ]
  },
  {
   "cell_type": "code",
   "execution_count": 19,
   "metadata": {},
   "outputs": [
    {
     "data": {
      "text/plain": [
       "organization\n",
       "Macquarie                    608\n",
       "Carret Private               427\n",
       "CGS International            327\n",
       "CLSA                          85\n",
       "Dendur Capital                58\n",
       "J&M Copper Beech Ventures     39\n",
       "Rock Springs Capital          30\n",
       "Veda Capital                  21\n",
       "ICICI Prudential              21\n",
       "Anek Capital                   6\n",
       "Masterton Capital              2\n",
       "Name: count, dtype: int64"
      ]
     },
     "execution_count": 19,
     "metadata": {},
     "output_type": "execute_result"
    }
   ],
   "source": [
    "df_all.organization.value_counts()"
   ]
  }
 ],
 "metadata": {
  "kernelspec": {
   "display_name": "venv",
   "language": "python",
   "name": "python3"
  },
  "language_info": {
   "codemirror_mode": {
    "name": "ipython",
    "version": 3
   },
   "file_extension": ".py",
   "mimetype": "text/x-python",
   "name": "python",
   "nbconvert_exporter": "python",
   "pygments_lexer": "ipython3",
   "version": "3.11.9"
  }
 },
 "nbformat": 4,
 "nbformat_minor": 2
}
