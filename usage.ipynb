{
 "cells": [
  {
   "cell_type": "markdown",
   "metadata": {},
   "source": [
    "## Carret "
   ]
  },
  {
   "cell_type": "code",
   "execution_count": 1,
   "metadata": {},
   "outputs": [],
   "source": [
    "import pandas as pd  \n",
    "\n",
    "\n",
    "df = pd.read_excel('carret_messages.xlsx')\n",
    "df2 = pd.read_excel('carret_catalysts.xlsx')\n",
    "\n",
    "# df의 컬럼 구조를 복사\n",
    "df_columns = df.columns\n",
    "\n",
    "# df2에서 필요한 컬럼만 추출\n",
    "df2_selected = df2[['User Email', 'Created At']]\n",
    "\n",
    "# df 구조에 맞게 빈 DataFrame 생성\n",
    "# 나머지 컬럼은 NaN, 필요한 컬럼만 값 채우기\n",
    "df2_like_df = pd.DataFrame(columns=df_columns)\n",
    "\n",
    "# 값 채우기\n",
    "df2_like_df['User Email'] = df2_selected['User Email']\n",
    "df2_like_df['Created At'] = df2_selected['Created At']\n",
    "\n",
    "merged_df = pd.concat([df, df2_like_df], ignore_index=True)\n",
    "\n",
    "# 1. user email과 user name의 매핑 딕셔너리 생성 (user name이 null이 아닌 것만)\n",
    "email_to_name = merged_df.loc[merged_df['User Name'].notna(), ['User Email', 'User Name']] \\\n",
    "                  .drop_duplicates() \\\n",
    "                  .set_index('User Email')['User Name'].to_dict()\n",
    "\n",
    "\n",
    "# 2. user name이 NaN인 곳에 매핑된 값 넣기\n",
    "merged_df['User Name'] = merged_df.apply(\n",
    "    lambda row: email_to_name.get(row['User Email'], row['User Name']),\n",
    "    axis=1\n",
    ")\n",
    "\n",
    "\n",
    "merged_df['Function Mode'] = merged_df['Function Mode'].fillna('catalysts')\n",
    "merged_df['Sender'] = merged_df['Sender'].fillna('user')\n",
    "\n",
    "merged_df.columns = merged_df.columns.str.lower().str.replace(' ', '_')\n",
    "\n",
    "merged_df = merged_df[merged_df['sender'] == 'user']\n",
    "\n",
    "merged_df['created_at'] = pd.to_datetime(merged_df['created_at'])\n",
    "\n",
    "df = merged_df\n",
    "\n",
    "df['status'] = 'active'\n",
    "\n"
   ]
  },
  {
   "cell_type": "code",
   "execution_count": 2,
   "metadata": {},
   "outputs": [
    {
     "name": "stdout",
     "output_type": "stream",
     "text": [
      "<class 'pandas.core.frame.DataFrame'>\n",
      "RangeIndex: 427 entries, 0 to 426\n",
      "Data columns (total 10 columns):\n",
      " #   Column          Non-Null Count  Dtype         \n",
      "---  ------          --------------  -----         \n",
      " 0   id              411 non-null    object        \n",
      " 1   selected_model  411 non-null    object        \n",
      " 2   sender          425 non-null    object        \n",
      " 3   function_mode   425 non-null    object        \n",
      " 4   user_name       425 non-null    object        \n",
      " 5   user_email      427 non-null    object        \n",
      " 6   user_group      411 non-null    object        \n",
      " 7   organization    413 non-null    object        \n",
      " 8   created_at      425 non-null    datetime64[ns]\n",
      " 9   status          427 non-null    object        \n",
      "dtypes: datetime64[ns](1), object(9)\n",
      "memory usage: 33.5+ KB\n"
     ]
    },
    {
     "name": "stderr",
     "output_type": "stream",
     "text": [
      "/var/folders/l1/ktg7ylkj42q3hp4jh40_3_xc0000gq/T/ipykernel_60175/3525441373.py:27: FutureWarning: The behavior of DataFrame concatenation with empty or all-NA entries is deprecated. In a future version, this will no longer exclude empty or all-NA columns when determining the result dtypes. To retain the old behavior, exclude the relevant entries before the concat operation.\n",
      "  df = pd.concat([df, new_users], ignore_index=True)\n"
     ]
    }
   ],
   "source": [
    "import pandas as pd\n",
    "import numpy as np\n",
    "\n",
    "# 1. 새로 추가할 사용자 정보\n",
    "new_users = pd.DataFrame([\n",
    "    {\n",
    "        'user_email': 'inness@carretprivate.com',\n",
    "        'organization': 'Carret Private',\n",
    "        'status': 'inactive'\n",
    "    },\n",
    "    {\n",
    "        'user_email': 'intern6@carretprivate.com',\n",
    "        'organization': 'Carret Private',\n",
    "        'status': 'inactive'\n",
    "    }\n",
    "])\n",
    "\n",
    "# 2. df와 컬럼 구조 맞추기: 누락된 컬럼은 NaN으로 채움\n",
    "for col in df.columns:\n",
    "    if col not in new_users.columns:\n",
    "        new_users[col] = np.nan\n",
    "\n",
    "# 3. 컬럼 순서를 기존 df에 맞춤\n",
    "new_users = new_users[df.columns]\n",
    "\n",
    "# 4. 병합\n",
    "df = pd.concat([df, new_users], ignore_index=True)\n",
    "\n",
    "df_carret = df\n",
    "df_carret.info()"
   ]
  },
  {
   "cell_type": "markdown",
   "metadata": {},
   "source": [
    "## Veda Capital"
   ]
  },
  {
   "cell_type": "code",
   "execution_count": 3,
   "metadata": {},
   "outputs": [
    {
     "name": "stdout",
     "output_type": "stream",
     "text": [
      "<class 'pandas.core.frame.DataFrame'>\n",
      "Index: 21 entries, 0 to 34\n",
      "Data columns (total 10 columns):\n",
      " #   Column          Non-Null Count  Dtype         \n",
      "---  ------          --------------  -----         \n",
      " 0   id              19 non-null     object        \n",
      " 1   selected_model  19 non-null     object        \n",
      " 2   sender          21 non-null     object        \n",
      " 3   function_mode   21 non-null     object        \n",
      " 4   user_name       21 non-null     object        \n",
      " 5   user_email      21 non-null     object        \n",
      " 6   user_group      19 non-null     object        \n",
      " 7   organization    19 non-null     object        \n",
      " 8   created_at      21 non-null     datetime64[ns]\n",
      " 9   status          21 non-null     object        \n",
      "dtypes: datetime64[ns](1), object(9)\n",
      "memory usage: 1.8+ KB\n"
     ]
    }
   ],
   "source": [
    "import pandas as pd  \n",
    "\n",
    "\n",
    "df = pd.read_excel('veda_messages.xlsx')\n",
    "df2 = pd.read_excel('veda_catalysts.xlsx')\n",
    "\n",
    "# df의 컬럼 구조를 복사\n",
    "df_columns = df.columns\n",
    "\n",
    "# df2에서 필요한 컬럼만 추출\n",
    "df2_selected = df2[['User Email', 'Created At']]\n",
    "\n",
    "# df 구조에 맞게 빈 DataFrame 생성\n",
    "# 나머지 컬럼은 NaN, 필요한 컬럼만 값 채우기\n",
    "df2_like_df = pd.DataFrame(columns=df_columns)\n",
    "\n",
    "# 값 채우기\n",
    "df2_like_df['User Email'] = df2_selected['User Email']\n",
    "df2_like_df['Created At'] = df2_selected['Created At']\n",
    "\n",
    "merged_df = pd.concat([df, df2_like_df], ignore_index=True)\n",
    "\n",
    "# 1. user email과 user name의 매핑 딕셔너리 생성 (user name이 null이 아닌 것만)\n",
    "email_to_name = merged_df.loc[merged_df['User Name'].notna(), ['User Email', 'User Name']] \\\n",
    "                  .drop_duplicates() \\\n",
    "                  .set_index('User Email')['User Name'].to_dict()\n",
    "\n",
    "\n",
    "# 2. user name이 NaN인 곳에 매핑된 값 넣기\n",
    "merged_df['User Name'] = merged_df.apply(\n",
    "    lambda row: email_to_name.get(row['User Email'], row['User Name']),\n",
    "    axis=1\n",
    ")\n",
    "\n",
    "\n",
    "merged_df['Function Mode'] = merged_df['Function Mode'].fillna('catalysts')\n",
    "merged_df['Sender'] = merged_df['Sender'].fillna('user')\n",
    "\n",
    "merged_df.columns = merged_df.columns.str.lower().str.replace(' ', '_')\n",
    "\n",
    "merged_df = merged_df[merged_df['sender'] == 'user']\n",
    "\n",
    "merged_df['created_at'] = pd.to_datetime(merged_df['created_at'])\n",
    "\n",
    "df_veda = merged_df\n",
    "\n",
    "df_veda['status'] = 'active'\n",
    "df_veda.info()\n"
   ]
  },
  {
   "cell_type": "markdown",
   "metadata": {},
   "source": [
    "## ICICI Prudential"
   ]
  },
  {
   "cell_type": "code",
   "execution_count": 4,
   "metadata": {},
   "outputs": [
    {
     "name": "stdout",
     "output_type": "stream",
     "text": [
      "<class 'pandas.core.frame.DataFrame'>\n",
      "Index: 21 entries, 2 to 37\n",
      "Data columns (total 10 columns):\n",
      " #   Column          Non-Null Count  Dtype         \n",
      "---  ------          --------------  -----         \n",
      " 0   id              21 non-null     object        \n",
      " 1   selected_model  21 non-null     object        \n",
      " 2   sender          21 non-null     object        \n",
      " 3   function_mode   21 non-null     object        \n",
      " 4   user_name       21 non-null     object        \n",
      " 5   user_email      21 non-null     object        \n",
      " 6   user_group      21 non-null     object        \n",
      " 7   organization    21 non-null     object        \n",
      " 8   created_at      21 non-null     datetime64[ns]\n",
      " 9   status          21 non-null     object        \n",
      "dtypes: datetime64[ns](1), object(9)\n",
      "memory usage: 1.8+ KB\n"
     ]
    }
   ],
   "source": [
    "import pandas as pd  \n",
    "\n",
    "\n",
    "df = pd.read_excel('icici_messages.xlsx')\n",
    "\n",
    "\n",
    "\n",
    "df.columns = df.columns.str.lower().str.replace(' ', '_')\n",
    "\n",
    "df = df[df['sender'] == 'user']\n",
    "\n",
    "df['created_at'] = pd.to_datetime(df['created_at'])\n",
    "\n",
    "df['status'] = 'active'\n",
    "\n",
    "df_icici = df\n",
    "\n",
    "df_icici.info()\n"
   ]
  },
  {
   "cell_type": "markdown",
   "metadata": {},
   "source": [
    "## J&M Copper "
   ]
  },
  {
   "cell_type": "code",
   "execution_count": 5,
   "metadata": {},
   "outputs": [
    {
     "name": "stdout",
     "output_type": "stream",
     "text": [
      "<class 'pandas.core.frame.DataFrame'>\n",
      "Index: 38 entries, 0 to 74\n",
      "Data columns (total 10 columns):\n",
      " #   Column          Non-Null Count  Dtype         \n",
      "---  ------          --------------  -----         \n",
      " 0   id              38 non-null     object        \n",
      " 1   selected_model  38 non-null     object        \n",
      " 2   sender          38 non-null     object        \n",
      " 3   function_mode   38 non-null     object        \n",
      " 4   user_name       38 non-null     object        \n",
      " 5   user_email      38 non-null     object        \n",
      " 6   user_group      38 non-null     object        \n",
      " 7   organization    38 non-null     object        \n",
      " 8   created_at      38 non-null     datetime64[ns]\n",
      " 9   status          38 non-null     object        \n",
      "dtypes: datetime64[ns](1), object(9)\n",
      "memory usage: 3.3+ KB\n"
     ]
    }
   ],
   "source": [
    "import pandas as pd  \n",
    "\n",
    "\n",
    "df = pd.read_excel('jmcopper_messages.xlsx')\n",
    "\n",
    "\n",
    "\n",
    "df.columns = df.columns.str.lower().str.replace(' ', '_')\n",
    "\n",
    "df = df[df['sender'] == 'user']\n",
    "\n",
    "df['created_at'] = pd.to_datetime(df['created_at'])\n",
    "\n",
    "df['status'] = 'active'\n",
    "\n",
    "df.info()\n"
   ]
  },
  {
   "cell_type": "code",
   "execution_count": 6,
   "metadata": {},
   "outputs": [
    {
     "name": "stdout",
     "output_type": "stream",
     "text": [
      "<class 'pandas.core.frame.DataFrame'>\n",
      "RangeIndex: 39 entries, 0 to 38\n",
      "Data columns (total 10 columns):\n",
      " #   Column          Non-Null Count  Dtype         \n",
      "---  ------          --------------  -----         \n",
      " 0   id              38 non-null     object        \n",
      " 1   selected_model  38 non-null     object        \n",
      " 2   sender          38 non-null     object        \n",
      " 3   function_mode   38 non-null     object        \n",
      " 4   user_name       39 non-null     object        \n",
      " 5   user_email      39 non-null     object        \n",
      " 6   user_group      38 non-null     object        \n",
      " 7   organization    39 non-null     object        \n",
      " 8   created_at      38 non-null     datetime64[ns]\n",
      " 9   status          39 non-null     object        \n",
      "dtypes: datetime64[ns](1), object(9)\n",
      "memory usage: 3.2+ KB\n"
     ]
    },
    {
     "name": "stderr",
     "output_type": "stream",
     "text": [
      "/var/folders/l1/ktg7ylkj42q3hp4jh40_3_xc0000gq/T/ipykernel_60175/3575329832.py:23: FutureWarning: The behavior of DataFrame concatenation with empty or all-NA entries is deprecated. In a future version, this will no longer exclude empty or all-NA columns when determining the result dtypes. To retain the old behavior, exclude the relevant entries before the concat operation.\n",
      "  df = pd.concat([df, new_users], ignore_index=True)\n"
     ]
    }
   ],
   "source": [
    "import pandas as pd\n",
    "import numpy as np\n",
    "\n",
    "# 1. 새로 추가할 사용자 정보\n",
    "new_users = pd.DataFrame([\n",
    "    {\n",
    "        'user_name' : 'EJ Ying',\n",
    "        'user_email': 'yejayying@jmcopperbeech.com',\n",
    "        'organization': 'J&M Copper Beech Ventures',\n",
    "        'status': 'inactive'\n",
    "    }\n",
    "])\n",
    "\n",
    "# 2. df와 컬럼 구조 맞추기: 누락된 컬럼은 NaN으로 채움\n",
    "for col in df.columns:\n",
    "    if col not in new_users.columns:\n",
    "        new_users[col] = np.nan\n",
    "\n",
    "# 3. 컬럼 순서를 기존 df에 맞춤\n",
    "new_users = new_users[df.columns]\n",
    "\n",
    "# 4. 병합\n",
    "df = pd.concat([df, new_users], ignore_index=True)\n",
    "\n",
    "df_jmcopper = df\n",
    "df_jmcopper.info()"
   ]
  },
  {
   "cell_type": "markdown",
   "metadata": {},
   "source": [
    "## Dendur Capital"
   ]
  },
  {
   "cell_type": "code",
   "execution_count": 7,
   "metadata": {},
   "outputs": [
    {
     "name": "stdout",
     "output_type": "stream",
     "text": [
      "<class 'pandas.core.frame.DataFrame'>\n",
      "Index: 57 entries, 5 to 104\n",
      "Data columns (total 10 columns):\n",
      " #   Column          Non-Null Count  Dtype         \n",
      "---  ------          --------------  -----         \n",
      " 0   id              57 non-null     object        \n",
      " 1   selected_model  57 non-null     object        \n",
      " 2   sender          57 non-null     object        \n",
      " 3   function_mode   57 non-null     object        \n",
      " 4   user_name       57 non-null     object        \n",
      " 5   user_email      57 non-null     object        \n",
      " 6   user_group      57 non-null     object        \n",
      " 7   organization    57 non-null     object        \n",
      " 8   created_at      57 non-null     datetime64[ns]\n",
      " 9   status          57 non-null     object        \n",
      "dtypes: datetime64[ns](1), object(9)\n",
      "memory usage: 4.9+ KB\n"
     ]
    }
   ],
   "source": [
    "import pandas as pd  \n",
    "\n",
    "\n",
    "df = pd.read_excel('dendur_messages.xlsx')\n",
    "\n",
    "\n",
    "\n",
    "df.columns = df.columns.str.lower().str.replace(' ', '_')\n",
    "\n",
    "df = df[df['sender'] == 'user']\n",
    "\n",
    "df['created_at'] = pd.to_datetime(df['created_at'])\n",
    "\n",
    "df['status'] = 'active'\n",
    "\n",
    "df.info()"
   ]
  },
  {
   "cell_type": "code",
   "execution_count": 8,
   "metadata": {},
   "outputs": [
    {
     "name": "stdout",
     "output_type": "stream",
     "text": [
      "<class 'pandas.core.frame.DataFrame'>\n",
      "RangeIndex: 58 entries, 0 to 57\n",
      "Data columns (total 10 columns):\n",
      " #   Column          Non-Null Count  Dtype         \n",
      "---  ------          --------------  -----         \n",
      " 0   id              57 non-null     object        \n",
      " 1   selected_model  57 non-null     object        \n",
      " 2   sender          57 non-null     object        \n",
      " 3   function_mode   57 non-null     object        \n",
      " 4   user_name       58 non-null     object        \n",
      " 5   user_email      58 non-null     object        \n",
      " 6   user_group      57 non-null     object        \n",
      " 7   organization    58 non-null     object        \n",
      " 8   created_at      57 non-null     datetime64[ns]\n",
      " 9   status          58 non-null     object        \n",
      "dtypes: datetime64[ns](1), object(9)\n",
      "memory usage: 4.7+ KB\n"
     ]
    },
    {
     "name": "stderr",
     "output_type": "stream",
     "text": [
      "/var/folders/l1/ktg7ylkj42q3hp4jh40_3_xc0000gq/T/ipykernel_60175/1382851941.py:23: FutureWarning: The behavior of DataFrame concatenation with empty or all-NA entries is deprecated. In a future version, this will no longer exclude empty or all-NA columns when determining the result dtypes. To retain the old behavior, exclude the relevant entries before the concat operation.\n",
      "  df = pd.concat([df, new_users], ignore_index=True)\n"
     ]
    }
   ],
   "source": [
    "import pandas as pd\n",
    "import numpy as np\n",
    "\n",
    "# 1. 새로 추가할 사용자 정보\n",
    "new_users = pd.DataFrame([\n",
    "    {\n",
    "        'user_name' : 'Mike Anastasio',\n",
    "        'user_email': 'manastasio@dendurcap.com',\n",
    "        'organization': 'Dendur Capital',\n",
    "        'status': 'inactive'\n",
    "    }\n",
    "])\n",
    "\n",
    "# 2. df와 컬럼 구조 맞추기: 누락된 컬럼은 NaN으로 채움\n",
    "for col in df.columns:\n",
    "    if col not in new_users.columns:\n",
    "        new_users[col] = np.nan\n",
    "\n",
    "# 3. 컬럼 순서를 기존 df에 맞춤\n",
    "new_users = new_users[df.columns]\n",
    "\n",
    "# 4. 병합\n",
    "df = pd.concat([df, new_users], ignore_index=True)\n",
    "\n",
    "df_dendur = df\n",
    "df_dendur.info()"
   ]
  },
  {
   "cell_type": "markdown",
   "metadata": {},
   "source": [
    "## Rock Springs Capital"
   ]
  },
  {
   "cell_type": "code",
   "execution_count": 9,
   "metadata": {},
   "outputs": [
    {
     "name": "stdout",
     "output_type": "stream",
     "text": [
      "<class 'pandas.core.frame.DataFrame'>\n",
      "Index: 26 entries, 1 to 51\n",
      "Data columns (total 10 columns):\n",
      " #   Column          Non-Null Count  Dtype         \n",
      "---  ------          --------------  -----         \n",
      " 0   id              26 non-null     object        \n",
      " 1   selected_model  26 non-null     object        \n",
      " 2   sender          26 non-null     object        \n",
      " 3   function_mode   26 non-null     object        \n",
      " 4   user_name       26 non-null     object        \n",
      " 5   user_email      26 non-null     object        \n",
      " 6   user_group      26 non-null     object        \n",
      " 7   organization    26 non-null     object        \n",
      " 8   created_at      26 non-null     datetime64[ns]\n",
      " 9   status          26 non-null     object        \n",
      "dtypes: datetime64[ns](1), object(9)\n",
      "memory usage: 2.2+ KB\n"
     ]
    }
   ],
   "source": [
    "import pandas as pd  \n",
    "\n",
    "\n",
    "df = pd.read_excel('rocksprings_messages.xlsx')\n",
    "\n",
    "\n",
    "\n",
    "df.columns = df.columns.str.lower().str.replace(' ', '_')\n",
    "\n",
    "df = df[df['sender'] == 'user']\n",
    "\n",
    "df['created_at'] = pd.to_datetime(df['created_at'])\n",
    "\n",
    "df['status'] = 'active'\n",
    "\n",
    "df.info()"
   ]
  },
  {
   "cell_type": "code",
   "execution_count": 10,
   "metadata": {},
   "outputs": [
    {
     "name": "stdout",
     "output_type": "stream",
     "text": [
      "<class 'pandas.core.frame.DataFrame'>\n",
      "RangeIndex: 30 entries, 0 to 29\n",
      "Data columns (total 10 columns):\n",
      " #   Column          Non-Null Count  Dtype         \n",
      "---  ------          --------------  -----         \n",
      " 0   id              26 non-null     object        \n",
      " 1   selected_model  26 non-null     object        \n",
      " 2   sender          26 non-null     object        \n",
      " 3   function_mode   26 non-null     object        \n",
      " 4   user_name       29 non-null     object        \n",
      " 5   user_email      30 non-null     object        \n",
      " 6   user_group      26 non-null     object        \n",
      " 7   organization    30 non-null     object        \n",
      " 8   created_at      26 non-null     datetime64[ns]\n",
      " 9   status          30 non-null     object        \n",
      "dtypes: datetime64[ns](1), object(9)\n",
      "memory usage: 2.5+ KB\n"
     ]
    },
    {
     "name": "stderr",
     "output_type": "stream",
     "text": [
      "/var/folders/l1/ktg7ylkj42q3hp4jh40_3_xc0000gq/T/ipykernel_60175/3056658575.py:40: FutureWarning: The behavior of DataFrame concatenation with empty or all-NA entries is deprecated. In a future version, this will no longer exclude empty or all-NA columns when determining the result dtypes. To retain the old behavior, exclude the relevant entries before the concat operation.\n",
      "  df = pd.concat([df, new_users], ignore_index=True)\n"
     ]
    }
   ],
   "source": [
    "import pandas as pd\n",
    "import numpy as np\n",
    "\n",
    "# 1. 새로 추가할 사용자 정보\n",
    "new_users = pd.DataFrame([\n",
    "    {\n",
    "        'user_name' : 'Veric Tan',\n",
    "        'user_email': 'veric@rockspringscapital.com',\n",
    "        'organization': 'Rock Springs Capital',\n",
    "        'status': 'inactive',\n",
    "    },\n",
    "    {\n",
    "        'user_name' : 'Temitope Akande',\n",
    "        'user_email': 'temi@rockspringscapital.com',\n",
    "        'organization': 'Rock Springs Capital',\n",
    "        'status': 'inactive'\n",
    "    },\n",
    "    {\n",
    "        'user_name' : 'Nnamdi Etoh',\n",
    "        'user_email': 'nnamdi@rockspringscapital.com',\n",
    "        'organization': 'Rock Springs Capital',\n",
    "        'status': 'inactive'\n",
    "    },\n",
    "    {\n",
    "        'user_email': 'dave@rockspringscapital.com',\n",
    "        'organization': 'Rock Springs Capital',\n",
    "        'status': 'inactive'\n",
    "    }\n",
    "])\n",
    "\n",
    "# 2. df와 컬럼 구조 맞추기: 누락된 컬럼은 NaN으로 채움\n",
    "for col in df.columns:\n",
    "    if col not in new_users.columns:\n",
    "        new_users[col] = np.nan\n",
    "\n",
    "# 3. 컬럼 순서를 기존 df에 맞춤\n",
    "new_users = new_users[df.columns]\n",
    "\n",
    "# 4. 병합\n",
    "df = pd.concat([df, new_users], ignore_index=True)\n",
    "\n",
    "df_rocksprings = df\n",
    "df_rocksprings.info()"
   ]
  },
  {
   "cell_type": "code",
   "execution_count": 11,
   "metadata": {},
   "outputs": [
    {
     "name": "stdout",
     "output_type": "stream",
     "text": [
      "<class 'pandas.core.frame.DataFrame'>\n",
      "RangeIndex: 596 entries, 0 to 595\n",
      "Data columns (total 10 columns):\n",
      " #   Column          Non-Null Count  Dtype         \n",
      "---  ------          --------------  -----         \n",
      " 0   id              572 non-null    object        \n",
      " 1   selected_model  572 non-null    object        \n",
      " 2   sender          588 non-null    object        \n",
      " 3   function_mode   588 non-null    object        \n",
      " 4   user_name       593 non-null    object        \n",
      " 5   user_email      596 non-null    object        \n",
      " 6   user_group      572 non-null    object        \n",
      " 7   organization    580 non-null    object        \n",
      " 8   created_at      588 non-null    datetime64[ns]\n",
      " 9   status          596 non-null    object        \n",
      "dtypes: datetime64[ns](1), object(9)\n",
      "memory usage: 46.7+ KB\n"
     ]
    }
   ],
   "source": [
    "import pandas as pd\n",
    "\n",
    "# 현재 전역 변수 중에서 df_로 시작하는 DataFrame만 수집\n",
    "dfs = [v for k, v in globals().items() if k.startswith('df_') and isinstance(v, pd.DataFrame)]\n",
    "\n",
    "# 모두 하나로 합치기\n",
    "df_all = pd.concat(dfs, ignore_index=True)\n",
    "df_all.info()"
   ]
  },
  {
   "cell_type": "markdown",
   "metadata": {},
   "source": [
    "### organization 맵핑"
   ]
  },
  {
   "cell_type": "code",
   "execution_count": 12,
   "metadata": {},
   "outputs": [
    {
     "name": "stdout",
     "output_type": "stream",
     "text": [
      "<class 'pandas.core.frame.DataFrame'>\n",
      "RangeIndex: 596 entries, 0 to 595\n",
      "Data columns (total 10 columns):\n",
      " #   Column          Non-Null Count  Dtype         \n",
      "---  ------          --------------  -----         \n",
      " 0   id              572 non-null    object        \n",
      " 1   selected_model  572 non-null    object        \n",
      " 2   sender          588 non-null    object        \n",
      " 3   function_mode   588 non-null    object        \n",
      " 4   user_name       593 non-null    object        \n",
      " 5   user_email      596 non-null    object        \n",
      " 6   user_group      572 non-null    object        \n",
      " 7   organization    596 non-null    object        \n",
      " 8   created_at      588 non-null    datetime64[ns]\n",
      " 9   status          596 non-null    object        \n",
      "dtypes: datetime64[ns](1), object(9)\n",
      "memory usage: 46.7+ KB\n"
     ]
    }
   ],
   "source": [
    "# 1. user_email → organization 매핑 딕셔너리 생성 (널 아닌 것만)\n",
    "email_to_org = df_all.loc[df_all['organization'].notna(), ['user_email', 'organization']] \\\n",
    "                     .drop_duplicates() \\\n",
    "                     .set_index('user_email')['organization'] \\\n",
    "                     .to_dict()\n",
    "\n",
    "# 2. organization 이 null인 곳에 매핑된 값으로 채우기\n",
    "df_all['organization'] = df_all.apply(\n",
    "    lambda row: email_to_org.get(row['user_email'], row['organization']),\n",
    "    axis=1\n",
    ")\n",
    "df_all.info()"
   ]
  },
  {
   "cell_type": "code",
   "execution_count": 13,
   "metadata": {},
   "outputs": [],
   "source": [
    "import pandas as pd\n",
    "\n",
    "# 기준 시간: 오늘 기준 4주 전부터 계산\n",
    "now = pd.Timestamp.now()\n",
    "start_date = now - pd.Timedelta(weeks=4)\n",
    "\n",
    "# week_bucket 생성\n",
    "df_all['week_bucket'] = pd.cut(\n",
    "    (df_all['created_at'] - start_date).dt.days,\n",
    "    bins=[-1, 7, 14, 21, 28],  # 0~7: week1, 8~14: week2, ...\n",
    "    labels=['week1', 'week2', 'week3', 'week4']\n",
    ")\n",
    "\n",
    "# day_bucket: 날짜만 추출 (시계열용)\n",
    "df_all['day_bucket'] = df_all['created_at'].dt.date\n"
   ]
  },
  {
   "cell_type": "code",
   "execution_count": 14,
   "metadata": {},
   "outputs": [
    {
     "data": {
      "text/plain": [
       "Index(['id', 'selected_model', 'sender', 'function_mode', 'user_name',\n",
       "       'user_email', 'user_group', 'organization', 'created_at', 'status',\n",
       "       'week_bucket', 'day_bucket'],\n",
       "      dtype='object')"
      ]
     },
     "execution_count": 14,
     "metadata": {},
     "output_type": "execute_result"
    }
   ],
   "source": [
    "df_all.columns"
   ]
  },
  {
   "cell_type": "code",
   "execution_count": 16,
   "metadata": {},
   "outputs": [],
   "source": [
    "df_all.to_csv(\"df_all.csv\", index=False)"
   ]
  },
  {
   "cell_type": "code",
   "execution_count": 17,
   "metadata": {},
   "outputs": [
    {
     "data": {
      "text/plain": [
       "'/Users/gyuhyun/Documents/Users'"
      ]
     },
     "execution_count": 17,
     "metadata": {},
     "output_type": "execute_result"
    }
   ],
   "source": [
    "import os\n",
    "os.getcwd()"
   ]
  },
  {
   "cell_type": "code",
   "execution_count": 18,
   "metadata": {},
   "outputs": [
    {
     "data": {
      "text/plain": [
       "organization\n",
       "Carret Private               427\n",
       "Dendur Capital                58\n",
       "J&M Copper Beech Ventures     39\n",
       "Rock Springs Capital          30\n",
       "Veda Capital                  21\n",
       "ICICI Prudential              21\n",
       "Name: count, dtype: int64"
      ]
     },
     "execution_count": 18,
     "metadata": {},
     "output_type": "execute_result"
    }
   ],
   "source": [
    "df_all.organization.value_counts()"
   ]
  },
  {
   "cell_type": "code",
   "execution_count": 20,
   "metadata": {},
   "outputs": [
    {
     "name": "stdout",
     "output_type": "stream",
     "text": [
      "✅ 조직 목록: ['Carret Private' 'Veda Capital' 'ICICI Prudential'\n",
      " 'J&M Copper Beech Ventures' 'Dendur Capital' 'Rock Springs Capital']\n",
      "\n",
      "🚀 조직: Carret Private\n",
      "총 사용 건수: 425\n",
      "전체 사용자 수: 13\n",
      "활성 사용자 수: 11\n",
      "활성 사용자 비율: 84.6%\n",
      "가장 활발한 유저: Cyrus Hung (141회)\n",
      "평균 사용자당 사용량: 38.6\n"
     ]
    }
   ],
   "source": [
    "import pandas as pd\n",
    "\n",
    "# 데이터 불러오기\n",
    "df_all = pd.read_csv(\"df_all.csv\", parse_dates=['created_at'])\n",
    "\n",
    "# week_bucket 및 day_bucket 생성\n",
    "now = pd.Timestamp.now()\n",
    "start_date = now - pd.Timedelta(weeks=4)\n",
    "\n",
    "df_all['week_bucket'] = pd.cut(\n",
    "    (df_all['created_at'] - start_date).dt.days,\n",
    "    bins=[-1, 7, 14, 21, 28],\n",
    "    labels=['week1', 'week2', 'week3', 'week4']\n",
    ")\n",
    "\n",
    "df_all['day_bucket'] = df_all['created_at'].dt.date\n",
    "df_all['agent_type'] = df_all['function_mode'].str.split(\":\").str[0]\n",
    "\n",
    "# organization, status 정리\n",
    "df_all['organization'] = df_all['organization'].astype(str).str.strip()\n",
    "df_all['status'] = df_all['status'].astype(str).str.lower()\n",
    "\n",
    "# 조직 리스트 확인\n",
    "print(\"✅ 조직 목록:\", df_all['organization'].unique())\n",
    "\n",
    "# 특정 조직 선택 (예: Carret Private)\n",
    "selected_org = \"Carret Private\"\n",
    "\n",
    "# 필터링\n",
    "df_org = df_all[df_all['organization'] == selected_org]\n",
    "df_active = df_org[df_org['status'] == 'active']\n",
    "\n",
    "# 빅넘버 지표 계산\n",
    "total_usage = df_active.shape[0]\n",
    "total_users = df_org['user_email'].nunique()\n",
    "active_users = df_active['user_email'].nunique()\n",
    "active_ratio = round((active_users / total_users) * 100, 1) if total_users > 0 else 0\n",
    "\n",
    "if not df_active['user_name'].dropna().empty:\n",
    "    top_user = df_active['user_name'].value_counts().idxmax()\n",
    "    top_user_count = df_active['user_name'].value_counts().max()\n",
    "else:\n",
    "    top_user, top_user_count = \"N/A\", 0\n",
    "\n",
    "avg_usage_per_user = round(total_usage / active_users, 1) if active_users > 0 else 0\n",
    "\n",
    "# 결과 출력\n",
    "print(f\"\\n🚀 조직: {selected_org}\")\n",
    "print(f\"총 사용 건수: {total_usage}\")\n",
    "print(f\"전체 사용자 수: {total_users}\")\n",
    "print(f\"활성 사용자 수: {active_users}\")\n",
    "print(f\"활성 사용자 비율: {active_ratio}%\")\n",
    "print(f\"가장 활발한 유저: {top_user} ({top_user_count}회)\")\n",
    "print(f\"평균 사용자당 사용량: {avg_usage_per_user}\")\n"
   ]
  },
  {
   "cell_type": "code",
   "execution_count": null,
   "metadata": {},
   "outputs": [],
   "source": []
  }
 ],
 "metadata": {
  "kernelspec": {
   "display_name": "venv",
   "language": "python",
   "name": "python3"
  },
  "language_info": {
   "codemirror_mode": {
    "name": "ipython",
    "version": 3
   },
   "file_extension": ".py",
   "mimetype": "text/x-python",
   "name": "python",
   "nbconvert_exporter": "python",
   "pygments_lexer": "ipython3",
   "version": "3.11.9"
  }
 },
 "nbformat": 4,
 "nbformat_minor": 2
}
